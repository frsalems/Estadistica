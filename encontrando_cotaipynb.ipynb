{
  "nbformat": 4,
  "nbformat_minor": 0,
  "metadata": {
    "colab": {
      "name": "encontrando cotaipynb",
      "provenance": [],
      "collapsed_sections": [],
      "authorship_tag": "ABX9TyN1kObaLlX2JJSz0f6DhSWn",
      "include_colab_link": true
    },
    "kernelspec": {
      "name": "python3",
      "display_name": "Python 3"
    }
  },
  "cells": [
    {
      "cell_type": "markdown",
      "metadata": {
        "id": "view-in-github",
        "colab_type": "text"
      },
      "source": [
        "<a href=\"https://colab.research.google.com/github/frsalems/Estadistica/blob/main/encontrando_cotaipynb.ipynb\" target=\"_parent\"><img src=\"https://colab.research.google.com/assets/colab-badge.svg\" alt=\"Open In Colab\"/></a>"
      ]
    },
    {
      "cell_type": "markdown",
      "metadata": {
        "id": "TRtt_fTOTkS4"
      },
      "source": [
        "Vamos a encontrar que la cuarta derivada de la función $\\frac{1}{1+x^2}$ está acotada por 24 en el intervalo $[-1,1]$"
      ]
    },
    {
      "cell_type": "markdown",
      "metadata": {
        "id": "BH4xOFNCUR50"
      },
      "source": [
        "Primero importamos las bibliotecas necesarias"
      ]
    },
    {
      "cell_type": "code",
      "metadata": {
        "id": "_YrQ7uLFO4Ig",
        "outputId": "21a43687-3f31-4cc4-944e-a6b8684cc9c0",
        "colab": {
          "base_uri": "https://localhost:8080/",
          "height": 34
        }
      },
      "source": [
        "from sympy import *\n",
        "init_session"
      ],
      "execution_count": null,
      "outputs": [
        {
          "output_type": "execute_result",
          "data": {
            "text/plain": [
              "<function sympy.interactive.session.init_session>"
            ]
          },
          "metadata": {
            "tags": []
          },
          "execution_count": 1
        }
      ]
    },
    {
      "cell_type": "code",
      "metadata": {
        "id": "oWlYrO7QPPcA"
      },
      "source": [
        "init_printing(use_latex=True)"
      ],
      "execution_count": null,
      "outputs": []
    },
    {
      "cell_type": "markdown",
      "metadata": {
        "id": "i6Ks6fgBPibO"
      },
      "source": [
        " creamos simbolos"
      ]
    },
    {
      "cell_type": "code",
      "metadata": {
        "id": "3GMFEA5sPtA1"
      },
      "source": [
        "x=symbols('x')"
      ],
      "execution_count": null,
      "outputs": []
    },
    {
      "cell_type": "code",
      "metadata": {
        "id": "QKJ3gh6kP8uF",
        "outputId": "a30bd6b4-7775-4824-e576-d67d1532ddbc",
        "colab": {
          "base_uri": "https://localhost:8080/",
          "height": 39
        }
      },
      "source": [
        "#creamos la expresion\n",
        "expr1=1/(1+x**2)\n",
        "expr1"
      ],
      "execution_count": null,
      "outputs": [
        {
          "output_type": "execute_result",
          "data": {
            "image/png": "[encoded data removed]",
            "text/latex": "$$\\frac{1}{x^{2} + 1}$$",
            "text/plain": [
              "  1   \n",
              "──────\n",
              " 2    \n",
              "x  + 1"
            ]
          },
          "metadata": {
            "tags": []
          },
          "execution_count": 7
        }
      ]
    },
    {
      "cell_type": "code",
      "metadata": {
        "id": "udwcJ6YzQSQy",
        "outputId": "4e4c4042-76ed-4f1c-f5f0-8d0f7ab14b5a",
        "colab": {
          "base_uri": "https://localhost:8080/",
          "height": 47
        }
      },
      "source": [
        "# obtenemos la cuarta  derivada \n",
        "D4expr1=expr1.diff(x,4)\n",
        "D4expr1"
      ],
      "execution_count": null,
      "outputs": [
        {
          "output_type": "execute_result",
          "data": {
            "image/png": "[encoded data removed]",
            "text/latex": "$$\\frac{24}{\\left(x^{2} + 1\\right)^{3}} \\left(\\frac{16 x^{4}}{\\left(x^{2} + 1\\right)^{2}} - \\frac{12 x^{2}}{x^{2} + 1} + 1\\right)$$",
            "text/plain": [
              "   ⎛      4         2     ⎞\n",
              "   ⎜  16⋅x      12⋅x      ⎟\n",
              "24⋅⎜───────── - ────── + 1⎟\n",
              "   ⎜        2    2        ⎟\n",
              "   ⎜⎛ 2    ⎞    x  + 1    ⎟\n",
              "   ⎝⎝x  + 1⎠              ⎠\n",
              "───────────────────────────\n",
              "                 3         \n",
              "         ⎛ 2    ⎞          \n",
              "         ⎝x  + 1⎠          "
            ]
          },
          "metadata": {
            "tags": []
          },
          "execution_count": 8
        }
      ]
    },
    {
      "cell_type": "markdown",
      "metadata": {
        "id": "wfkFIiFKQ1_r"
      },
      "source": [
        "Ya que conocemos  la cuarta  derivada la graficamos \n"
      ]
    },
    {
      "cell_type": "code",
      "metadata": {
        "id": "L8MA5QFnRAe2",
        "outputId": "be3a39b9-45d5-472a-8573-fe6c4f035f2f",
        "colab": {
          "base_uri": "https://localhost:8080/",
          "height": 265
        }
      },
      "source": [
        "import numpy as np\n",
        "import matplotlib.pyplot as plt\n",
        "w=np.linspace(-1,1,1000)\n",
        "z1=24/(w**2+1)**3\n",
        "z2=(16*w**4)/((w**2+1))**2\n",
        "z3=(12*w**2)/(w**2+1)\n",
        "z4=z2-z3+1\n",
        "z=z1*z4\n",
        "plt.plot(w,z)\n",
        "plt.grid()"
      ],
      "execution_count": null,
      "outputs": [
        {
          "output_type": "display_data",
          "data": {
            "image/png": "[encoded data removed]",
            "text/plain": [
              "<Figure size 432x288 with 1 Axes>"
            ]
          },
          "metadata": {
            "tags": [],
            "needs_background": "light"
          }
        }
      ]
    },
    {
      "cell_type": "markdown",
      "metadata": {
        "id": "UKLbNP7jRXtf"
      },
      "source": [
        "De la grafica de la cuarta derivada observamos que el máximo se toma en 0"
      ]
    },
    {
      "cell_type": "code",
      "metadata": {
        "id": "tNnUq_LXRjWr",
        "outputId": "1e2fedb5-55d0-43d9-d226-aabc8961ff99",
        "colab": {
          "base_uri": "https://localhost:8080/",
          "height": 37
        }
      },
      "source": [
        "# Ahora evaluamos la cuarta derivada  en o\n",
        "D4expr1.subs(x,0)"
      ],
      "execution_count": null,
      "outputs": [
        {
          "output_type": "execute_result",
          "data": {
            "image/png": "[encoded data removed]",
            "text/latex": "$$24$$",
            "text/plain": [
              "24"
            ]
          },
          "metadata": {
            "tags": []
          },
          "execution_count": 11
        }
      ]
    },
    {
      "cell_type": "markdown",
      "metadata": {
        "id": "3fiTqzETSuDc"
      },
      "source": [
        "Así observamos que la cuarta derivada de $\\frac{1}{1+x^2}$ está acotada por 24 en el intervalo $[-1,1]$"
      ]
    },
    {
      "cell_type": "code",
      "metadata": {
        "id": "WrHd4kwATTx7"
      },
      "source": [
        ""
      ],
      "execution_count": null,
      "outputs": []
    },
    {
      "cell_type": "code",
      "metadata": {
        "id": "HUcv8PbbTvxX"
      },
      "source": [
        ""
      ],
      "execution_count": null,
      "outputs": []
    }
  ]
}