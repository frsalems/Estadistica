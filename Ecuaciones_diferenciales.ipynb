{
  "nbformat": 4,
  "nbformat_minor": 0,
  "metadata": {
    "colab": {
      "name": "Ecuaciones diferenciales.ipynb",
      "provenance": [],
      "collapsed_sections": [],
      "include_colab_link": true
    },
    "kernelspec": {
      "name": "python3",
      "display_name": "Python 3"
    },
    "language_info": {
      "name": "python"
    }
  },
  "cells": [
    {
      "cell_type": "markdown",
      "metadata": {
        "id": "view-in-github",
        "colab_type": "text"
      },
      "source": [
        "<a href=\"https://colab.research.google.com/github/frsalems/Estadistica/blob/main/Ecuaciones_diferenciales.ipynb\" target=\"_parent\"><img src=\"https://colab.research.google.com/assets/colab-badge.svg\" alt=\"Open In Colab\"/></a>"
      ]
    },
    {
      "cell_type": "markdown",
      "metadata": {
        "id": "Qh9g68KEnCAH"
      },
      "source": [
        "Importando los modulos necesarios"
      ]
    },
    {
      "cell_type": "code",
      "metadata": {
        "id": "uqWLjoBtpSE0"
      },
      "source": [
        ""
      ],
      "execution_count": null,
      "outputs": []
    },
    {
      "cell_type": "code",
      "metadata": {
        "id": "szybsyc4mnte"
      },
      "source": [
        "import numpy as np\n",
        "import matplotlib.pyplot as plt\n",
        "from scipy import integrate\n",
        "import sympy"
      ],
      "execution_count": null,
      "outputs": []
    },
    {
      "cell_type": "markdown",
      "metadata": {
        "id": "7HblziotnIxm"
      },
      "source": [
        "Para desplegar adecuadamente los resultados"
      ]
    },
    {
      "cell_type": "code",
      "metadata": {
        "id": "Qz0ekhtQnUdg"
      },
      "source": [
        "sympy.init_printing()"
      ],
      "execution_count": null,
      "outputs": []
    },
    {
      "cell_type": "markdown",
      "metadata": {
        "id": "EisAPmvrnc7X"
      },
      "source": [
        "### Ecuaciones diferenciales ordinarias\n",
        "\n",
        "$\\frac{dy(x)}{dx}=f(x,y(x))$\n",
        "\n",
        "la incognita es $y(x)$ y $f(x,y(x))$ es conocida \n",
        "\n",
        "solo la primera derivada de orden uno de $y $ es una ECDIF de orden uno, mas generalmente podemos escribir una ECDIF de orden $n$ como\n",
        "\n",
        "$$\n",
        "\\frac{d^ny}{dx^n}=f(x,y,\\frac{dy}{dx},\\cdots,\\frac{d^{n-1}y}{dx^{n-1}})\n",
        "$$"
      ]
    },
    {
      "cell_type": "markdown",
      "metadata": {
        "id": "1grfQ96XqOlr"
      },
      "source": [
        " o de Manera implicita \n",
        " $$\n",
        " F(x,y,\\frac{dy}{dx},\\cdots,\\frac{d^ny}{dx^n})=0\n",
        " $$\n",
        "\n",
        " "
      ]
    },
    {
      "cell_type": "markdown",
      "metadata": {
        "id": "3KvSjBArq-3X"
      },
      "source": [
        "#### Ejemplo $\\frac{dT(t)}{dt}=-k(T(t)-T_a)$ que describe la temperatura en un medio ambiente con temperatura $T_a$, la solución a esta ECDIF es $T(t)=T_a+(T_0-T_a)e^{-kt}$"
      ]
    },
    {
      "cell_type": "markdown",
      "metadata": {
        "id": "lkxiEluQr8_Y"
      },
      "source": [
        "### Ejemplo2 \n",
        "La 2da ley de Newton $F=ma$,o mas explicitamente\n",
        "$$\n",
        "F(x(t))=m\\frac{d^2x(t)}{dt^2}\n",
        "$$"
      ]
    },
    {
      "cell_type": "markdown",
      "metadata": {
        "id": "u6SjqFhMsghc"
      },
      "source": [
        "Para especificar completa mente la solución debemos aparte de dar la solución general , proporcionar la posición inicial y velocidad del objeto,\n",
        "De manera semejante la solución general de la  ECDIF de orden $n$ tiene $n$ parámetros libres que debemos especificar , por ejemplo las condiciones iniciales para la funcion desconocida y las $n-1$ de sus derivadas "
      ]
    },
    {
      "cell_type": "markdown",
      "metadata": {
        "id": "dsG6bIVFuJbQ"
      },
      "source": [
        "Una ECDIF siempre se puede escribir como un sistema de $n$  ECDIF's de orden 1"
      ]
    },
    {
      "cell_type": "markdown",
      "metadata": {
        "id": "Mtv9Byg3uiTB"
      },
      "source": [
        "Por ejemplo $$\n",
        "\\frac{d^ny}{dx^n}=f(x,y,\\frac{dy}{dx},\\cdots,\\frac{d^{n-1}y}{dx^{n-1}})\n",
        "$$\n",
        "se puede escribir introduciendo $n$ nuevas funciones \n",
        "\n",
        "$$\n",
        "y_1=y,y_2=\\frac{dy}{dx},\\cdots,y_n=\\frac{d^{n-1}y}{dx^{n-1}}\n",
        "$$"
      ]
    },
    {
      "cell_type": "markdown",
      "metadata": {
        "id": "C_uH-tf5vtq4"
      },
      "source": [
        "Obtenemos \n",
        "$$\n",
        "\\frac{d}{dx}\n",
        "\\begin{bmatrix}\n",
        "y_1\\\\\n",
        "y_2\\\\\n",
        "\\vdots\\\\\n",
        "y_{n-1}\\\\\n",
        "y_n\n",
        "\\end{bmatrix}\n",
        "=\n",
        "\\begin{bmatrix}\n",
        "y_2\\\\\n",
        "y_3\\\\\n",
        "\\vdots\\\\\n",
        "y_n\\\\\n",
        "g(x,y_1,\\cdots,y_n)\n",
        "\\end{bmatrix}\n",
        "$$\n"
      ]
    },
    {
      "cell_type": "markdown",
      "metadata": {
        "id": "cHQYuiVixazX"
      },
      "source": [
        "##### se puede escribir de forma reducida:\n",
        "$$\n",
        "\\frac{d}{dx}\\hat{y}(x)=f(x,\\hat{y}(x))\n",
        "$$\n",
        "\n",
        "El segundo ejemplo sobre la ley de Newton $F(x)=m\\frac{d^2x}{dt^2}$ se puede escribir usando $y=[y_1=x,y_2=\\frac{dx}{dt}]^{T}$ de donde obtenemos \n",
        "\n",
        "$$\n",
        "\\frac{d}{dt}\n",
        "\\begin{bmatrix}\n",
        "y_1\\\\\n",
        "y_2\n",
        "\\end{bmatrix}\n",
        "=\n",
        "\\begin{bmatrix}\n",
        "y_2\\\\\n",
        "\\frac{F(y_1)}{m}\n",
        "\\end{bmatrix}\n",
        "$$\n"
      ]
    },
    {
      "cell_type": "markdown",
      "metadata": {
        "id": "0LqkA5qOz4V4"
      },
      "source": [
        "Si las funciones $f_1,f_2,\\cdots,f_n$ son lineales la ECDIF se puede escribir como\n",
        "\n",
        "$$\n",
        "\\frac{dy(x)}{dx}=A(x)y(x)+\n",
        "r(x)\n",
        "$$\n",
        "\n",
        "domde $A(x)$ es una matriz $n\\times n$ y $r(x)$ es un vector que depende de $x$"
      ]
    },
    {
      "cell_type": "markdown",
      "metadata": {
        "id": "x2OuOnee06s0"
      },
      "source": [
        "#### Solución simbolica de ECDIF\n",
        "usaremos la función de sympy dsolve\n",
        "$\\frac{dT(t)}{dx}=-k(T(t)-T_a)$\n",
        "\n",
        "con condición inicial $T(0)=T_0$"
      ]
    },
    {
      "cell_type": "code",
      "metadata": {
        "id": "aISb6NzmqEAq"
      },
      "source": [
        "t,k,T0,Ta=sympy.symbols(\"t,k,T_0,T_a\")\n",
        "T=sympy.Function(\"T\")"
      ],
      "execution_count": null,
      "outputs": []
    },
    {
      "cell_type": "code",
      "metadata": {
        "colab": {
          "base_uri": "https://localhost:8080/",
          "height": 52
        },
        "id": "QaWUber-nv4-",
        "outputId": "050adc39-8898-49bd-ec65-9688cfb88a96"
      },
      "source": [
        "ode=T(t).diff(t)+k*(T(t)-Ta)\n",
        "#sympy.Eq(ode)\n",
        "sympy.Eq(ode,0)"
      ],
      "execution_count": null,
      "outputs": [
        {
          "output_type": "execute_result",
          "data": {
            "text/plain": [
              "                 d           \n",
              "k⋅(-Tₐ + T(t)) + ──(T(t)) = 0\n",
              "                 dt          "
            ],
            "image/png": "[encoded data removed]",
            "text/latex": "$\\displaystyle k \\left(- T_{a} + T{\\left(t \\right)}\\right) + \\frac{d}{d t} T{\\left(t \\right)} = 0$"
          },
          "metadata": {},
          "execution_count": 35
        }
      ]
    },
    {
      "cell_type": "code",
      "metadata": {
        "colab": {
          "base_uri": "https://localhost:8080/",
          "height": 39
        },
        "id": "6ChElM-N3Wje",
        "outputId": "05ae9c10-c873-4a2c-9bec-90aa611e2494"
      },
      "source": [
        "ode_sol=sympy.dsolve(ode)\n",
        "ode_sol"
      ],
      "execution_count": null,
      "outputs": [
        {
          "output_type": "execute_result",
          "data": {
            "text/plain": [
              "           -k⋅t     \n",
              "T(t) = C₁⋅ℯ     + Tₐ"
            ],
            "image/png": "[encoded data removed]",
            "text/latex": "$\\displaystyle T{\\left(t \\right)} = C_{1} e^{- k t} + T_{a}$"
          },
          "metadata": {},
          "execution_count": 36
        }
      ]
    },
    {
      "cell_type": "markdown",
      "metadata": {
        "id": "MZ_eRvka3tJo"
      },
      "source": [
        "Para esta ode sympy.dsolve encuentra su solución general que incluye una constante general $C_1$.\n",
        "\n",
        "sympy.dsolve es una instancia de sympy.eq que es una representación simbolica de igualdad . Tiene los atributos lhs y rhs para acceder a el lado izquierdo y el lado derecho respectivamente \n"
      ]
    },
    {
      "cell_type": "code",
      "metadata": {
        "colab": {
          "base_uri": "https://localhost:8080/",
          "height": 39
        },
        "id": "8T9CuoU54oWn",
        "outputId": "c5042081-db7a-4867-cefe-9739a4eff50c"
      },
      "source": [
        "ode_sol.lhs"
      ],
      "execution_count": null,
      "outputs": [
        {
          "output_type": "execute_result",
          "data": {
            "text/plain": [
              "T(t)"
            ],
            "image/png": "[encoded data removed]",
            "text/latex": "$\\displaystyle T{\\left(t \\right)}$"
          },
          "metadata": {},
          "execution_count": 37
        }
      ]
    },
    {
      "cell_type": "code",
      "metadata": {
        "colab": {
          "base_uri": "https://localhost:8080/",
          "height": 39
        },
        "id": "8HWkl1_V4sw2",
        "outputId": "a4fd6a25-c2df-4ed8-a211-ce74a227fc9a"
      },
      "source": [
        "ode_sol.rhs"
      ],
      "execution_count": null,
      "outputs": [
        {
          "output_type": "execute_result",
          "data": {
            "text/plain": [
              "    -k⋅t     \n",
              "C₁⋅ℯ     + Tₐ"
            ],
            "image/png": "[encoded data removed]",
            "text/latex": "$\\displaystyle C_{1} e^{- k t} + T_{a}$"
          },
          "metadata": {},
          "execution_count": 38
        }
      ]
    },
    {
      "cell_type": "markdown",
      "metadata": {
        "id": "_X3_4XIW424V"
      },
      "source": [
        "Una vez que se ha encontrado la solución general necesitamos utilizar las condiciones iniciales $T(0)=T_0$ para esto creamoms un diccionario que describa las condiciones iniciales ics={T(0):T0} para usar el método subs para aplicar las condiciones iniciales a la ode. Esto resulta en una ecuación para la constante desconocida "
      ]
    },
    {
      "cell_type": "code",
      "metadata": {
        "colab": {
          "base_uri": "https://localhost:8080/",
          "height": 39
        },
        "id": "jB5CJXEm4xf5",
        "outputId": "30945717-ecf3-4f82-dcf6-71b779c1902f"
      },
      "source": [
        "ics={T(0):T0}\n",
        "ics"
      ],
      "execution_count": null,
      "outputs": [
        {
          "output_type": "execute_result",
          "data": {
            "text/plain": [
              "{T(0): T₀}"
            ],
            "image/png": "[encoded data removed]",
            "text/latex": "$\\displaystyle \\left\\{ T{\\left(0 \\right)} : T_{0}\\right\\}$"
          },
          "metadata": {},
          "execution_count": 39
        }
      ]
    },
    {
      "cell_type": "code",
      "metadata": {
        "colab": {
          "base_uri": "https://localhost:8080/",
          "height": 39
        },
        "id": "0xDOTxOV6L5r",
        "outputId": "3776afb0-8d5b-42bc-8927-9b79b20bf93a"
      },
      "source": [
        "C_eq=ode_sol.subs(t,0).subs(ics)\n",
        "C_eq"
      ],
      "execution_count": null,
      "outputs": [
        {
          "output_type": "execute_result",
          "data": {
            "text/plain": [
              "T₀ = C₁ + Tₐ"
            ],
            "image/png": "[encoded data removed]",
            "text/latex": "$\\displaystyle T_{0} = C_{1} + T_{a}$"
          },
          "metadata": {},
          "execution_count": 40
        }
      ]
    },
    {
      "cell_type": "markdown",
      "metadata": {
        "id": "Vg8it8kH6fLy"
      },
      "source": [
        "En este ejemplo la solución es fácil de encontrar , en general podemos usar sympy.solve. el resultado es una lista de soluciones. Podemos substitur $C_1$ en la solución general para obtener una solución particular que corresponda a las condiciones iniciales ,\n"
      ]
    },
    {
      "cell_type": "code",
      "metadata": {
        "colab": {
          "base_uri": "https://localhost:8080/",
          "height": 39
        },
        "id": "LI5n9hT66JZf",
        "outputId": "5ffa865c-8a0d-4fb6-d440-0d6409e87964"
      },
      "source": [
        "C_sol=sympy.solve(C_eq)\n",
        "C_sol"
      ],
      "execution_count": null,
      "outputs": [
        {
          "output_type": "execute_result",
          "data": {
            "text/plain": [
              "[{C₁: T₀ - Tₐ}]"
            ],
            "image/png": "[encoded data removed]",
            "text/latex": "$\\displaystyle \\left[ \\left\\{ C_{1} : T_{0} - T_{a}\\right\\}\\right]$"
          },
          "metadata": {},
          "execution_count": 41
        }
      ]
    },
    {
      "cell_type": "code",
      "metadata": {
        "colab": {
          "base_uri": "https://localhost:8080/",
          "height": 39
        },
        "id": "CIxtMEdW7od3",
        "outputId": "db400e91-67c6-4513-a17e-bc6e6b9338c8"
      },
      "source": [
        "ode_sol.subs(C_sol[0])"
      ],
      "execution_count": null,
      "outputs": [
        {
          "output_type": "execute_result",
          "data": {
            "text/plain": [
              "                       -k⋅t\n",
              "T(t) = Tₐ + (T₀ - Tₐ)⋅ℯ    "
            ],
            "image/png": "[encoded data removed]",
            "text/latex": "$\\displaystyle T{\\left(t \\right)} = T_{a} + \\left(T_{0} - T_{a}\\right) e^{- k t}$"
          },
          "metadata": {},
          "execution_count": 42
        }
      ]
    },
    {
      "cell_type": "code",
      "metadata": {
        "id": "SvrTMeik8FZW"
      },
      "source": [
        "def apply_ics(sol, ics, x, known_params):\n",
        " free_params = sol.free_symbols - set(known_params)\n",
        " eqs = [(sol.lhs.diff(x, n) - sol.rhs.diff(x, n))\n",
        ".subs(x, 0).subs(ics) for n in range(len(ics))]\n",
        " sol_params = sympy.solve(eqs, free_params)\n",
        " return sol.subs(sol_params)"
      ],
      "execution_count": null,
      "outputs": []
    },
    {
      "cell_type": "markdown",
      "metadata": {
        "id": "6BACaPj18s4T"
      },
      "source": [
        "Con esta función podemos encontrar una solución particular de una ode que satisfaga las condiciones iniciales , dada la solución general , para el ejemplo anterior \n"
      ]
    },
    {
      "cell_type": "code",
      "metadata": {
        "colab": {
          "base_uri": "https://localhost:8080/",
          "height": 39
        },
        "id": "HpJdjsL-9I-b",
        "outputId": "a4721661-9bda-44a0-f88f-043d86360b88"
      },
      "source": [
        "ode_sol"
      ],
      "execution_count": null,
      "outputs": [
        {
          "output_type": "execute_result",
          "data": {
            "text/plain": [
              "           -k⋅t     \n",
              "T(t) = C₁⋅ℯ     + Tₐ"
            ],
            "image/png": "[encoded data removed]",
            "text/latex": "$\\displaystyle T{\\left(t \\right)} = C_{1} e^{- k t} + T_{a}$"
          },
          "metadata": {},
          "execution_count": 44
        }
      ]
    },
    {
      "cell_type": "code",
      "metadata": {
        "colab": {
          "base_uri": "https://localhost:8080/",
          "height": 39
        },
        "id": "-BryumXa9NFv",
        "outputId": "45a6a6b4-f87d-4f20-8c81-474cd21ad0c1"
      },
      "source": [
        "apply_ics(ode_sol,ics,t,[k,Ta])"
      ],
      "execution_count": null,
      "outputs": [
        {
          "output_type": "execute_result",
          "data": {
            "text/plain": [
              "                       -k⋅t\n",
              "T(t) = Tₐ + (T₀ - Tₐ)⋅ℯ    "
            ],
            "image/png": "[encoded data removed]",
            "text/latex": "$\\displaystyle T{\\left(t \\right)} = T_{a} + \\left(T_{0} - T_{a}\\right) e^{- k t}$"
          },
          "metadata": {},
          "execution_count": 45
        }
      ]
    },
    {
      "cell_type": "code",
      "metadata": {
        "id": "6cekUDfI_JCG"
      },
      "source": [
        ""
      ],
      "execution_count": null,
      "outputs": []
    },
    {
      "cell_type": "markdown",
      "metadata": {
        "id": "Tr4VwjAT-NmD"
      },
      "source": [
        "Este método se puede aplicar a un problema de ODE, aunque no hay garantía de que encuentre solución.\n",
        "Como ejemplo apliquemos este método a una ODE un poco mas complicada \n",
        "$$\n",
        "\\frac{d^2x(t)}{dt^2}+2\\gamma\\omega_0 \\frac{dx(t)}{dt}+\\omega_0 ^2x(t)=0\n",
        "$$\n",
        "\n",
        "donde $x(t)$ es la posición del oscilador en el tiempo $t$, $\\omega_0$ es la frecuencia del caso no amortiguado y $\\gamma$ es la tasa de amortiguamiento .\n",
        "Primero definimos los simbolos que se requieren para construir nuestra ode\n",
        " "
      ]
    },
    {
      "cell_type": "code",
      "metadata": {
        "id": "naGK5Cc49ILj",
        "colab": {
          "base_uri": "https://localhost:8080/",
          "height": 54
        },
        "outputId": "014ed1e0-d408-429d-edf6-9f39a3174211"
      },
      "source": [
        "t,omega0,gamma=sympy.symbols(\"t,omega_0,gamma\",positive=True)\n",
        "x=sympy.Function(\"x\")\n",
        "ode=x(t).diff(t,2)+2*gamma*omega0*x(t).diff(t)+omega0**2*x(t)\n",
        "sympy.Eq(ode,0)"
      ],
      "execution_count": null,
      "outputs": [
        {
          "output_type": "execute_result",
          "data": {
            "text/plain": [
              "                               2          \n",
              "       d            2         d           \n",
              "2⋅γ⋅ω₀⋅──(x(t)) + ω₀ ⋅x(t) + ───(x(t)) = 0\n",
              "       dt                      2          \n",
              "                             dt           "
            ],
            "image/png": "[encoded data removed]",
            "text/latex": "$\\displaystyle 2 \\gamma \\omega_{0} \\frac{d}{d t} x{\\left(t \\right)} + \\omega_{0}^{2} x{\\left(t \\right)} + \\frac{d^{2}}{d t^{2}} x{\\left(t \\right)} = 0$"
          },
          "metadata": {},
          "execution_count": 46
        }
      ]
    },
    {
      "cell_type": "code",
      "metadata": {
        "colab": {
          "base_uri": "https://localhost:8080/",
          "height": 42
        },
        "id": "WYNm0RThBs5Y",
        "outputId": "ba9d98b2-9cb0-4c69-d285-e1d5c29f1eff"
      },
      "source": [
        "ode_sol=sympy.dsolve(ode)\n",
        "ode_sol"
      ],
      "execution_count": null,
      "outputs": [
        {
          "output_type": "execute_result",
          "data": {
            "text/plain": [
              "                ⎛       _______   _______⎞            ⎛       _______   ______\n",
              "           ω₀⋅t⋅⎝-γ - ╲╱ γ - 1 ⋅╲╱ γ + 1 ⎠       ω₀⋅t⋅⎝-γ + ╲╱ γ - 1 ⋅╲╱ γ + 1\n",
              "x(t) = C₁⋅ℯ                                + C₂⋅ℯ                             \n",
              "\n",
              "_⎞\n",
              " ⎠\n",
              "  "
            ],
            "image/png": "[encoded data removed]",
            "text/latex": "$\\displaystyle x{\\left(t \\right)} = C_{1} e^{\\omega_{0} t \\left(- \\gamma - \\sqrt{\\gamma - 1} \\sqrt{\\gamma + 1}\\right)} + C_{2} e^{\\omega_{0} t \\left(- \\gamma + \\sqrt{\\gamma - 1} \\sqrt{\\gamma + 1}\\right)}$"
          },
          "metadata": {},
          "execution_count": 47
        }
      ]
    },
    {
      "cell_type": "code",
      "metadata": {
        "colab": {
          "base_uri": "https://localhost:8080/",
          "height": 68
        },
        "id": "YwjDj9OaB9-g",
        "outputId": "f113e0b2-db91-4a29-d1d8-294fc920f48b"
      },
      "source": [
        "ics={x(0):1,x(t).diff(t).subs(t,0):0}\n",
        "ics"
      ],
      "execution_count": null,
      "outputs": [
        {
          "output_type": "execute_result",
          "data": {
            "text/plain": [
              "⎧         ⎛d       ⎞│      ⎫\n",
              "⎨x(0): 1, ⎜──(x(t))⎟│   : 0⎬\n",
              "⎩         ⎝dt      ⎠│t=0   ⎭"
            ],
            "text/latex": "$\\displaystyle \\left\\{ x{\\left(0 \\right)} : 1, \\  \\left. \\frac{d}{d t} x{\\left(t \\right)} \\right|_{\\substack{ t=0 }} : 0\\right\\}$"
          },
          "metadata": {},
          "execution_count": 48
        }
      ]
    },
    {
      "cell_type": "code",
      "metadata": {
        "colab": {
          "base_uri": "https://localhost:8080/",
          "height": 57
        },
        "id": "oKzFWHKiCeTV",
        "outputId": "0ee69213-c794-41ab-c83c-bd439aabdc4d"
      },
      "source": [
        "x_t_sol=apply_ics(ode_sol,ics,t,[omega0,gamma])\n",
        "x_t_sol"
      ],
      "execution_count": null,
      "outputs": [
        {
          "output_type": "execute_result",
          "data": {
            "text/plain": [
              "                                           ⎛       _______   _______⎞         \n",
              "       ⎛            γ             1⎞  ω₀⋅t⋅⎝-γ - ╲╱ γ - 1 ⋅╲╱ γ + 1 ⎠   ⎛     \n",
              "x(t) = ⎜- ───────────────────── + ─⎟⋅ℯ                                + ⎜─────\n",
              "       ⎜      _______   _______   2⎟                                    ⎜    _\n",
              "       ⎝  2⋅╲╱ γ - 1 ⋅╲╱ γ + 1     ⎠                                    ⎝2⋅╲╱ \n",
              "\n",
              "                            ⎛       _______   _______⎞\n",
              "     γ             1⎞  ω₀⋅t⋅⎝-γ + ╲╱ γ - 1 ⋅╲╱ γ + 1 ⎠\n",
              "──────────────── + ─⎟⋅ℯ                               \n",
              "______   _______   2⎟                                 \n",
              "γ - 1 ⋅╲╱ γ + 1     ⎠                                 "
            ],
            "image/png": "[encoded data removed]",
            "text/latex": "$\\displaystyle x{\\left(t \\right)} = \\left(- \\frac{\\gamma}{2 \\sqrt{\\gamma - 1} \\sqrt{\\gamma + 1}} + \\frac{1}{2}\\right) e^{\\omega_{0} t \\left(- \\gamma - \\sqrt{\\gamma - 1} \\sqrt{\\gamma + 1}\\right)} + \\left(\\frac{\\gamma}{2 \\sqrt{\\gamma - 1} \\sqrt{\\gamma + 1}} + \\frac{1}{2}\\right) e^{\\omega_{0} t \\left(- \\gamma + \\sqrt{\\gamma - 1} \\sqrt{\\gamma + 1}\\right)}$"
          },
          "metadata": {},
          "execution_count": 49
        }
      ]
    },
    {
      "cell_type": "markdown",
      "metadata": {
        "id": "cvsfvyffC3qG"
      },
      "source": [
        "Esta es la solución para el oscilador para valores arbitrarios de $t$ , $\\omega_0$ y $\\gamma$, donde usamos las condicioes iniciales $x(0)=1$ y $\\frac{dx(t)}{dt}|_{t=0}=0$  . Sin embargo si substituimos $\\gamma=1$ directamente en esta expresión tendremos una división por $0$ , así para esta elección tenemos que evaluar el límite cuando $\\gamma \\rightarrow 1$"
      ]
    },
    {
      "cell_type": "code",
      "metadata": {
        "colab": {
          "base_uri": "https://localhost:8080/",
          "height": 39
        },
        "id": "muScOOOUCQMt",
        "outputId": "15016161-2ebb-4f11-9104-cd8ecc3111f7"
      },
      "source": [
        "x_t_critical=sympy.limit(x_t_sol.rhs,gamma,1)\n",
        "x_t_critical"
      ],
      "execution_count": null,
      "outputs": [
        {
          "output_type": "execute_result",
          "data": {
            "text/plain": [
              "            -ω₀⋅t\n",
              "(ω₀⋅t + 1)⋅ℯ     "
            ],
            "image/png": "[encoded data removed]",
            "text/latex": "$\\displaystyle \\left(\\omega_{0} t + 1\\right) e^{- \\omega_{0} t}$"
          },
          "metadata": {},
          "execution_count": 50
        }
      ]
    },
    {
      "cell_type": "markdown",
      "metadata": {
        "id": "_rrDBmEtFx32"
      },
      "source": [
        "Finalmente graficamos las soluciones para $\\omega_0=2\\pi$ y diferentes valores de $\\gamma$"
      ]
    },
    {
      "cell_type": "code",
      "metadata": {
        "colab": {
          "base_uri": "https://localhost:8080/",
          "height": 287
        },
        "id": "D3QpxqZHGEpD",
        "outputId": "5f7fa6cc-5157-443b-c8db-e0b612c80f3f"
      },
      "source": [
        "fig, ax = plt.subplots(figsize=(8, 4))\n",
        "tt = np.linspace(0, 3, 250)\n",
        "w0 = 2 * sympy.pi\n",
        "for g in [0.1, 0.5, 1, 2.0, 5.0]:\n",
        "    if g == 1:\n",
        "      x_t = sympy.lambdify(t, x_t_critical.subs({omega0: w0}), 'numpy')\n",
        "    else:\n",
        "       x_t = sympy.lambdify(t, x_t_sol.rhs.subs({omega0: w0,\n",
        "gamma: g}), 'numpy')\n",
        "    ax.plot(tt, x_t(tt).real, label=r\"$\\gamma = %.1f$\" % g)\n",
        "ax.set_xlabel(r\"$t$\", fontsize=18)\n",
        "ax.set_ylabel(r\"$x(t)$\", fontsize=18)\n",
        "ax.legend()\n",
        "plt.show()"
      ],
      "execution_count": null,
      "outputs": [
        {
          "output_type": "display_data",
          "data": {
            "text/plain": [
              "<Figure size 576x288 with 1 Axes>"
            ],
            "image/png": "[encoded data removed]"
          },
          "metadata": {
            "needs_background": "light"
          }
        }
      ]
    },
    {
      "cell_type": "markdown",
      "metadata": {
        "id": "Fm96gA63HWNW"
      },
      "source": [
        "Los dos ejemplos que hemos visto pueden ser resueltos analiticamente de forma exacta, pero hay muchas ode que no pueden ser resueltas , incluso alguna de orden $1$ por ejemplo\n",
        "considere \n",
        "$$\n",
        "\\frac{dy(x)}{dx}=x+y(x)^2\n",
        "$$\n",
        "\n",
        "veamos que pasa cuando tratamos de resolver esta ode con sympy"
      ]
    },
    {
      "cell_type": "code",
      "metadata": {
        "colab": {
          "base_uri": "https://localhost:8080/",
          "height": 52
        },
        "id": "8Dw1zgSzIMpN",
        "outputId": "a4c65c47-6859-48fa-8b1f-d170046d451c"
      },
      "source": [
        "x=sympy.symbols(\"x\")\n",
        "y=sympy.Function(\"y\")\n",
        "f=y(x)**2+x\n",
        "sympy.Eq(y(x).diff(x),f)"
      ],
      "execution_count": null,
      "outputs": [
        {
          "output_type": "execute_result",
          "data": {
            "text/plain": [
              "d               2   \n",
              "──(y(x)) = x + y (x)\n",
              "dx                  "
            ],
            "image/png": "[encoded data removed]",
            "text/latex": "$\\displaystyle \\frac{d}{d x} y{\\left(x \\right)} = x + y^{2}{\\left(x \\right)}$"
          },
          "metadata": {},
          "execution_count": 52
        }
      ]
    },
    {
      "cell_type": "code",
      "metadata": {
        "colab": {
          "base_uri": "https://localhost:8080/",
          "height": 77
        },
        "id": "A1Lua8LhI-8H",
        "outputId": "a144f23e-3f3a-48c1-96bd-12086390490f"
      },
      "source": [
        "sympy.dsolve(y(x).diff(x)-f)"
      ],
      "execution_count": null,
      "outputs": [
        {
          "output_type": "execute_result",
          "data": {
            "text/plain": [
              "        2 ⎛    3    ⎞    5 ⎛     3 ⎛    3    ⎞        3    ⎞            3 ⎛   \n",
              "       x ⋅⎝2⋅C₁  + 1⎠   x ⋅⎝10⋅C₁ ⋅⎝6⋅C₁  + 1⎠ + 20⋅C₁  + 3⎠        C₁⋅x ⋅⎝3⋅C\n",
              "y(x) = ────────────── + ──────────────────────────────────── + C₁ + ──────────\n",
              "             2                           60                                 3 \n",
              "\n",
              " 3    ⎞             2  4 ⎛     3    ⎞        \n",
              "₁  + 1⎠     2     C₁ ⋅x ⋅⎝12⋅C₁  + 5⎠    ⎛ 6⎞\n",
              "─────── + C₁ ⋅x + ─────────────────── + O⎝x ⎠\n",
              "                           12                "
            ],
            "image/png": "[encoded data removed]",
            "text/latex": "$\\displaystyle y{\\left(x \\right)} = \\frac{x^{2} \\left(2 C_{1}^{3} + 1\\right)}{2} + \\frac{x^{5} \\left(10 C_{1}^{3} \\left(6 C_{1}^{3} + 1\\right) + 20 C_{1}^{3} + 3\\right)}{60} + C_{1} + \\frac{C_{1} x^{3} \\left(3 C_{1}^{3} + 1\\right)}{3} + C_{1}^{2} x + \\frac{C_{1}^{2} x^{4} \\left(12 C_{1}^{3} + 5\\right)}{12} + O\\left(x^{6}\\right)$"
          },
          "metadata": {},
          "execution_count": 53
        }
      ]
    },
    {
      "cell_type": "markdown",
      "metadata": {
        "id": "IUhRLFSdJkQt"
      },
      "source": [
        "Para otras como \n",
        "$$\n",
        "\\frac{d^2y(x)}{dx}=x+y(x)^2\n",
        "$$\n",
        "no produce ninguna solución\n"
      ]
    },
    {
      "cell_type": "code",
      "metadata": {
        "colab": {
          "base_uri": "https://localhost:8080/",
          "height": 54
        },
        "id": "dX8IfRixJ4Yl",
        "outputId": "f3a7025e-324f-47fb-9e2f-604bbc6db715"
      },
      "source": [
        "sympy.Eq(y(x).diff(x,x),f)"
      ],
      "execution_count": null,
      "outputs": [
        {
          "output_type": "execute_result",
          "data": {
            "text/plain": [
              "  2                  \n",
              " d               2   \n",
              "───(y(x)) = x + y (x)\n",
              "  2                  \n",
              "dx                   "
            ],
            "image/png": "[encoded data removed]",
            "text/latex": "$\\displaystyle \\frac{d^{2}}{d x^{2}} y{\\left(x \\right)} = x + y^{2}{\\left(x \\right)}$"
          },
          "metadata": {},
          "execution_count": 54
        }
      ]
    },
    {
      "cell_type": "code",
      "metadata": {
        "colab": {
          "base_uri": "https://localhost:8080/",
          "height": 335
        },
        "id": "zmR4YWDJJN_3",
        "outputId": "9e174319-7ecc-4eaf-f4a2-2969791fffa4"
      },
      "source": [
        "sympy.dsolve(y(x).diff(x,2)-f)"
      ],
      "execution_count": null,
      "outputs": [
        {
          "output_type": "error",
          "ename": "NotImplementedError",
          "evalue": "ignored",
          "traceback": [
            "\u001b[0;31m---------------------------------------------------------------------------\u001b[0m",
            "\u001b[0;31mNotImplementedError\u001b[0m                       Traceback (most recent call last)",
            "\u001b[0;32m<ipython-input-55-3fa1f692c92c>\u001b[0m in \u001b[0;36m<module>\u001b[0;34m()\u001b[0m\n\u001b[0;32m----> 1\u001b[0;31m \u001b[0msympy\u001b[0m\u001b[0;34m.\u001b[0m\u001b[0mdsolve\u001b[0m\u001b[0;34m(\u001b[0m\u001b[0my\u001b[0m\u001b[0;34m(\u001b[0m\u001b[0mx\u001b[0m\u001b[0;34m)\u001b[0m\u001b[0;34m.\u001b[0m\u001b[0mdiff\u001b[0m\u001b[0;34m(\u001b[0m\u001b[0mx\u001b[0m\u001b[0;34m,\u001b[0m\u001b[0;36m2\u001b[0m\u001b[0;34m)\u001b[0m\u001b[0;34m-\u001b[0m\u001b[0mf\u001b[0m\u001b[0;34m)\u001b[0m\u001b[0;34m\u001b[0m\u001b[0;34m\u001b[0m\u001b[0m\n\u001b[0m",
            "\u001b[0;32m/usr/local/lib/python3.7/dist-packages/sympy/solvers/ode/ode.py\u001b[0m in \u001b[0;36mdsolve\u001b[0;34m(eq, func, hint, simplify, ics, xi, eta, x0, n, **kwargs)\u001b[0m\n\u001b[1;32m    629\u001b[0m         hints = _desolve(eq, func=func,\n\u001b[1;32m    630\u001b[0m             \u001b[0mhint\u001b[0m\u001b[0;34m=\u001b[0m\u001b[0mhint\u001b[0m\u001b[0;34m,\u001b[0m \u001b[0msimplify\u001b[0m\u001b[0;34m=\u001b[0m\u001b[0;32mTrue\u001b[0m\u001b[0;34m,\u001b[0m \u001b[0mxi\u001b[0m\u001b[0;34m=\u001b[0m\u001b[0mxi\u001b[0m\u001b[0;34m,\u001b[0m \u001b[0meta\u001b[0m\u001b[0;34m=\u001b[0m\u001b[0meta\u001b[0m\u001b[0;34m,\u001b[0m \u001b[0mtype\u001b[0m\u001b[0;34m=\u001b[0m\u001b[0;34m'ode'\u001b[0m\u001b[0;34m,\u001b[0m \u001b[0mics\u001b[0m\u001b[0;34m=\u001b[0m\u001b[0mics\u001b[0m\u001b[0;34m,\u001b[0m\u001b[0;34m\u001b[0m\u001b[0;34m\u001b[0m\u001b[0m\n\u001b[0;32m--> 631\u001b[0;31m             x0=x0, n=n, **kwargs)\n\u001b[0m\u001b[1;32m    632\u001b[0m         \u001b[0meq\u001b[0m \u001b[0;34m=\u001b[0m \u001b[0mhints\u001b[0m\u001b[0;34m.\u001b[0m\u001b[0mpop\u001b[0m\u001b[0;34m(\u001b[0m\u001b[0;34m'eq'\u001b[0m\u001b[0;34m,\u001b[0m \u001b[0meq\u001b[0m\u001b[0;34m)\u001b[0m\u001b[0;34m\u001b[0m\u001b[0;34m\u001b[0m\u001b[0m\n\u001b[1;32m    633\u001b[0m         \u001b[0mall_\u001b[0m \u001b[0;34m=\u001b[0m \u001b[0mhints\u001b[0m\u001b[0;34m.\u001b[0m\u001b[0mpop\u001b[0m\u001b[0;34m(\u001b[0m\u001b[0;34m'all'\u001b[0m\u001b[0;34m,\u001b[0m \u001b[0;32mFalse\u001b[0m\u001b[0;34m)\u001b[0m\u001b[0;34m\u001b[0m\u001b[0;34m\u001b[0m\u001b[0m\n",
            "\u001b[0;32m/usr/local/lib/python3.7/dist-packages/sympy/solvers/deutils.py\u001b[0m in \u001b[0;36m_desolve\u001b[0;34m(eq, func, hint, ics, simplify, prep, **kwargs)\u001b[0m\n\u001b[1;32m    241\u001b[0m                 str(eq) + \" is not a solvable differential equation in \" + str(func))\n\u001b[1;32m    242\u001b[0m         \u001b[0;32melse\u001b[0m\u001b[0;34m:\u001b[0m\u001b[0;34m\u001b[0m\u001b[0;34m\u001b[0m\u001b[0m\n\u001b[0;32m--> 243\u001b[0;31m             \u001b[0;32mraise\u001b[0m \u001b[0mNotImplementedError\u001b[0m\u001b[0;34m(\u001b[0m\u001b[0mdummy\u001b[0m \u001b[0;34m+\u001b[0m \u001b[0;34m\"solve\"\u001b[0m \u001b[0;34m+\u001b[0m \u001b[0;34m\": Cannot solve \"\u001b[0m \u001b[0;34m+\u001b[0m \u001b[0mstr\u001b[0m\u001b[0;34m(\u001b[0m\u001b[0meq\u001b[0m\u001b[0;34m)\u001b[0m\u001b[0;34m)\u001b[0m\u001b[0;34m\u001b[0m\u001b[0;34m\u001b[0m\u001b[0m\n\u001b[0m\u001b[1;32m    244\u001b[0m     \u001b[0;32mif\u001b[0m \u001b[0mhint\u001b[0m \u001b[0;34m==\u001b[0m \u001b[0;34m'default'\u001b[0m\u001b[0;34m:\u001b[0m\u001b[0;34m\u001b[0m\u001b[0;34m\u001b[0m\u001b[0m\n\u001b[1;32m    245\u001b[0m         return _desolve(eq, func, ics=ics, hint=hints['default'], simplify=simplify,\n",
            "\u001b[0;31mNotImplementedError\u001b[0m: solve: Cannot solve -x - y(x)**2 + Derivative(y(x), (x, 2))"
          ]
        }
      ]
    },
    {
      "cell_type": "code",
      "metadata": {
        "id": "SWvua5GDDfIX"
      },
      "source": [
        "def  plot_direction_field(x, y_x, f_xy, x_lim=(-5, 5), y_lim=(-5, 5), ax=None):\n",
        "    \n",
        "    f_np = sympy.lambdify((x, y_x), f_xy, 'numpy')\n",
        "    \n",
        "    x_vec = np.linspace(x_lim[0], x_lim[1], 20)\n",
        "    y_vec = np.linspace(y_lim[0], y_lim[1], 20)\n",
        "    \n",
        "    if ax is None:\n",
        "        _, ax = plt.subplots(figsize=(4, 4))\n",
        "\n",
        "    dx = x_vec[1] - x_vec[0]\n",
        "    dy = y_vec[1] - y_vec[0]\n",
        "\n",
        "    for m, xx in enumerate(x_vec):\n",
        "        for n, yy in enumerate(y_vec):\n",
        "            Dy = f_np(xx, yy) * dx\n",
        "            Dx = 0.8 * dx**2 / np.sqrt(dx**2 + Dy**2)\n",
        "            Dy = 0.8 * Dy*dy / np.sqrt(dx**2 + Dy**2)\n",
        "            ax.plot([xx - Dx/2, xx + Dx/2],\n",
        "                    [yy - Dy/2, yy + Dy/2], 'b', lw=0.5)\n",
        "    ax.axis('tight')\n",
        "\n",
        "    ax.set_title(r\"$%s$\" %\n",
        "                 (sympy.latex(sympy.Eq(y(x).diff(x), f_xy))),\n",
        "                 fontsize=18)\n",
        "    \n",
        "    return ax"
      ],
      "execution_count": null,
      "outputs": []
    },
    {
      "cell_type": "code",
      "metadata": {
        "id": "h4PQtHawDrrt"
      },
      "source": [
        "x = sympy.symbols(\"x\")\n",
        "y = sympy.Function(\"y\")"
      ],
      "execution_count": null,
      "outputs": []
    },
    {
      "cell_type": "markdown",
      "metadata": {
        "id": "ak8X1lgCPBWi"
      },
      "source": [
        "\n",
        "\n",
        "Con esta función podemos construir el campo de direcciones para las ode's $f(x,y(x))=y^2(x)+x,\\:f(x,y(x))=\\frac{-x}{y(x)},\\:f(x,y(x))=\\frac{y(x)^2}{x}$ "
      ]
    },
    {
      "cell_type": "code",
      "metadata": {
        "colab": {
          "base_uri": "https://localhost:8080/",
          "height": 284
        },
        "id": "bl9m-n3IEMH5",
        "outputId": "68d9aa3b-e536-42be-fcf5-7d423e8e56c9"
      },
      "source": [
        "fig, axes = plt.subplots(1, 3, figsize=(12, 4))\n",
        "\n",
        "plot_direction_field(x, y(x), y(x)**2 + x, ax=axes[0])\n",
        "plot_direction_field(x, y(x), -x / y(x), ax=axes[1])\n",
        "plot_direction_field(x, y(x), y(x)**2 / x, ax=axes[2])\n",
        "\n",
        "fig.tight_layout()\n",
        "fig.savefig('ch9-direction-field.pdf')"
      ],
      "execution_count": null,
      "outputs": [
        {
          "output_type": "display_data",
          "data": {
            "text/plain": [
              "<Figure size 864x288 with 3 Axes>"
            ],
            "image/png": "[encoded data removed]"
          },
          "metadata": {
            "needs_background": "light"
          }
        }
      ]
    },
    {
      "cell_type": "markdown",
      "metadata": {
        "id": "TgPdVDdYQr1L"
      },
      "source": [
        "Las lineas de las graficas del campo de direcciones sugieren como son las curvas de las soluciones , por eso el campo de direcciones es una herramienta útil para visulaizar las soluciones de las ode'sque no se pueden resolver analiticamente. un ejemplo de esto es la ode $\\frac{dy(x)}{dx}=x+y(x)^2$ con la condición inicial $y(0)=0$.El cual ya se vio que se puede resolver con una aproximación de series de potencias.Como antes resolvemos este problema definiendo el simbolo $x$ y la función $y(x)$    "
      ]
    },
    {
      "cell_type": "code",
      "metadata": {
        "colab": {
          "base_uri": "https://localhost:8080/",
          "height": 52
        },
        "id": "70uLKiLCQrMY",
        "outputId": "786a040f-f709-4ac5-f19a-05206d5674ad"
      },
      "source": [
        "x = sympy.symbols(\"x\")\n",
        "y = sympy.Function(\"y\")\n",
        "f = y(x)**2 + x\n",
        "sympy.Eq(y(x).diff(x), f)\n"
      ],
      "execution_count": null,
      "outputs": [
        {
          "output_type": "execute_result",
          "data": {
            "text/plain": [
              "d               2   \n",
              "──(y(x)) = x + y (x)\n",
              "dx                  "
            ],
            "image/png": "[encoded data removed]",
            "text/latex": "$\\displaystyle \\frac{d}{d x} y{\\left(x \\right)} = x + y^{2}{\\left(x \\right)}$"
          },
          "metadata": {},
          "execution_count": 57
        }
      ]
    },
    {
      "cell_type": "markdown",
      "metadata": {
        "id": "sbH1_td-T4EI"
      },
      "source": [
        "Ahora queremos especificar la solución aproximada \n",
        "en series de potencia que satisface las condiciones iniciales"
      ]
    },
    {
      "cell_type": "code",
      "metadata": {
        "colab": {
          "base_uri": "https://localhost:8080/",
          "height": 54
        },
        "id": "Gr9abGieTUzt",
        "outputId": "164c4c16-99cd-4f51-c5b5-72288fe3ecf4"
      },
      "source": [
        "ics={y(0):0} \n",
        "ode_sol=sympy.dsolve(y(x).diff(x)-f,ics=ics)\n",
        "ode_sol"
      ],
      "execution_count": null,
      "outputs": [
        {
          "output_type": "execute_result",
          "data": {
            "text/plain": [
              "        2    5        \n",
              "       x    x     ⎛ 6⎞\n",
              "y(x) = ── + ── + O⎝x ⎠\n",
              "       2    20        "
            ],
            "image/png": "[encoded data removed]",
            "text/latex": "$\\displaystyle y{\\left(x \\right)} = \\frac{x^{2}}{2} + \\frac{x^{5}}{20} + O\\left(x^{6}\\right)$"
          },
          "metadata": {},
          "execution_count": 58
        }
      ]
    },
    {
      "cell_type": "code",
      "metadata": {
        "colab": {
          "base_uri": "https://localhost:8080/",
          "height": 295
        },
        "id": "LBjBG3lqTsXW",
        "outputId": "32ce9129-bb34-4dd8-8e75-98a9b25f3cad"
      },
      "source": [
        "fig, axes = plt.subplots(1, 2, figsize=(8, 4)) \n",
        "plot_direction_field(x, y(x), f, ax=axes[0])# left panel\n",
        "x_vec = np.linspace(-3, 3, 100)\n",
        "axes[0].plot(x_vec, sympy.lambdify(x, ode_sol.rhs.removeO())\n",
        "(x_vec), 'b', lw=2)\n",
        "axes[0].set_ylim(-5, 5)\n",
        "# right panel\n",
        "plot_direction_field(x, y(x), f, ax=axes[1])\n",
        "x_vec = np.linspace(-1, 1, 100)\n",
        "axes[1].plot(x_vec, sympy.lambdify(x, ode_sol.rhs.removeO())\n",
        "(x_vec), 'b', lw=2)\n",
        " # iteratively resolve the ODE with updated initial conditions\n",
        "ode_sol_m = ode_sol_p = ode_sol\n",
        "dx = 0.125\n",
        "# positive x\n",
        "for x0 in np.arange(1, 2., dx):\n",
        "    x_vec = np.linspace(x0, x0 + dx, 100)\n",
        "    ics = {y(x0): ode_sol_p.rhs.removeO().subs(x, x0)}\n",
        "    ode_sol_p = sympy.dsolve(y(x).diff(x) - f, ics=ics, n=6)\n",
        "    axes[1].plot(x_vec, sympy.lambdify(x, ode_sol_p.rhs.removeO())\n",
        "    (x_vec), 'r', lw=2)\n",
        "# negative x\n",
        "for x0 in np.arange(-1, -5, -dx):\n",
        "  x_vec = np.linspace(x0, x0 - dx, 100)\n",
        "  ics = {y(x0): ode_sol_m.rhs.removeO().subs(x, x0)}\n",
        "  ode_sol_m = sympy.dsolve(y(x).diff(x) - f, ics=ics, n=6)\n",
        "  axes[1].plot(x_vec, sympy.lambdify(x, ode_sol_m.rhs.removeO())\n",
        "  (x_vec), 'r', lw=2)"
      ],
      "execution_count": null,
      "outputs": [
        {
          "output_type": "display_data",
          "data": {
            "text/plain": [
              "<Figure size 576x288 with 2 Axes>"
            ],
            "image/png": "[encoded data removed]"
          },
          "metadata": {
            "needs_background": "light"
          }
        }
      ]
    },
    {
      "cell_type": "markdown",
      "metadata": {
        "id": "57AU1-WTI76i"
      },
      "source": [
        "![image.png](data:image/png;base64,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)"
      ]
    },
    {
      "cell_type": "markdown",
      "metadata": {
        "id": "1O4LGnNJNz-m"
      },
      "source": [
        "Método De Transformada de  Laplace"
      ]
    },
    {
      "cell_type": "code",
      "metadata": {
        "colab": {
          "base_uri": "https://localhost:8080/",
          "height": 54
        },
        "id": "nWTJV7z9N7hq",
        "outputId": "c546edac-b4e9-4326-bcee-0c8a1b3767cf"
      },
      "source": [
        "t = sympy.symbols(\"t\", positive=True)\n",
        "y = sympy.Function(\"y\")\n",
        "ode = y(t).diff(t, 2) + 2 * y(t).diff(t) + 10 * y(t) - 2 * sympy.sin(3*t)\n",
        "ode"
      ],
      "execution_count": null,
      "outputs": [
        {
          "output_type": "execute_result",
          "data": {
            "text/plain": [
              "                                      2      \n",
              "                         d           d       \n",
              "10⋅y(t) - 2⋅sin(3⋅t) + 2⋅──(y(t)) + ───(y(t))\n",
              "                         dt           2      \n",
              "                                    dt       "
            ],
            "image/png": "[encoded data removed]",
            "text/latex": "$\\displaystyle 10 y{\\left(t \\right)} - 2 \\sin{\\left(3 t \\right)} + 2 \\frac{d}{d t} y{\\left(t \\right)} + \\frac{d^{2}}{d t^{2}} y{\\left(t \\right)}$"
          },
          "metadata": {},
          "execution_count": 60
        }
      ]
    },
    {
      "cell_type": "code",
      "metadata": {
        "colab": {
          "base_uri": "https://localhost:8080/",
          "height": 54
        },
        "id": "HDPl8TO3wtp2",
        "outputId": "4de4cda1-6391-4ae0-9579-8c325c01b234"
      },
      "source": [
        "sympy.Eq(ode,0)"
      ],
      "execution_count": null,
      "outputs": [
        {
          "output_type": "execute_result",
          "data": {
            "text/plain": [
              "                                      2          \n",
              "                         d           d           \n",
              "10⋅y(t) - 2⋅sin(3⋅t) + 2⋅──(y(t)) + ───(y(t)) = 0\n",
              "                         dt           2          \n",
              "                                    dt           "
            ],
            "image/png": "[encoded data removed]",
            "text/latex": "$\\displaystyle 10 y{\\left(t \\right)} - 2 \\sin{\\left(3 t \\right)} + 2 \\frac{d}{d t} y{\\left(t \\right)} + \\frac{d^{2}}{d t^{2}} y{\\left(t \\right)} = 0$"
          },
          "metadata": {},
          "execution_count": 61
        }
      ]
    },
    {
      "cell_type": "code",
      "metadata": {
        "id": "3GMKMPa5xHRG"
      },
      "source": [
        "s, Y = sympy.symbols(\"s, Y\", real=True)\n"
      ],
      "execution_count": null,
      "outputs": []
    },
    {
      "cell_type": "code",
      "metadata": {
        "colab": {
          "base_uri": "https://localhost:8080/",
          "height": 39
        },
        "id": "wEWnE8h2xY7G",
        "outputId": "83281e74-d6c3-4bcc-a054-a0731d9f9606"
      },
      "source": [
        "L_y = sympy.laplace_transform(y(t), t, s)\n",
        "L_y"
      ],
      "execution_count": null,
      "outputs": [
        {
          "output_type": "execute_result",
          "data": {
            "text/plain": [
              "LaplaceTransform(y(t), t, s)"
            ],
            "image/png": "[encoded data removed]",
            "text/latex": "$\\displaystyle \\mathcal{L}_{t}\\left[y{\\left(t \\right)}\\right]\\left(s\\right)$"
          },
          "metadata": {},
          "execution_count": 63
        }
      ]
    },
    {
      "cell_type": "code",
      "metadata": {
        "colab": {
          "base_uri": "https://localhost:8080/",
          "height": 58
        },
        "id": "gtjReuNzxmwy",
        "outputId": "f2c5d141-f990-4a40-b6b7-7fc81cb33bbd"
      },
      "source": [
        "L_ode = sympy.laplace_transform(ode, t, s, noconds=True)\n",
        "sympy.Eq(L_ode,0)"
      ],
      "execution_count": null,
      "outputs": [
        {
          "output_type": "execute_result",
          "data": {
            "text/plain": [
              "                                                                              \n",
              "                                                    ⎛d             ⎞          \n",
              "10⋅LaplaceTransform(y(t), t, s) + 2⋅LaplaceTransform⎜──(y(t)), t, s⎟ + Laplace\n",
              "                                                    ⎝dt            ⎠          \n",
              "                                                                              \n",
              "\n",
              "         ⎛  2            ⎞             \n",
              "         ⎜ d             ⎟     6       \n",
              "Transform⎜───(y(t)), t, s⎟ - ────── = 0\n",
              "         ⎜  2            ⎟    2        \n",
              "         ⎝dt             ⎠   s  + 9    "
            ],
            "image/png": "[encoded data removed]",
            "text/latex": "$\\displaystyle 10 \\mathcal{L}_{t}\\left[y{\\left(t \\right)}\\right]\\left(s\\right) + 2 \\mathcal{L}_{t}\\left[\\frac{d}{d t} y{\\left(t \\right)}\\right]\\left(s\\right) + \\mathcal{L}_{t}\\left[\\frac{d^{2}}{d t^{2}} y{\\left(t \\right)}\\right]\\left(s\\right) - \\frac{6}{s^{2} + 9} = 0$"
          },
          "metadata": {},
          "execution_count": 65
        }
      ]
    },
    {
      "cell_type": "code",
      "metadata": {
        "colab": {
          "base_uri": "https://localhost:8080/",
          "height": 54
        },
        "id": "7-cESBHJ-GG5",
        "outputId": "11ccdbdb-2ac8-438b-98fe-558638ff51d6"
      },
      "source": [
        "# Defino la ecuación\n",
        "edo = y(t).diff(t, t) + 3*y(t).diff(t) + 2*y(t)\n",
        "sympy.Eq(edo,0)"
      ],
      "execution_count": null,
      "outputs": [
        {
          "output_type": "execute_result",
          "data": {
            "text/plain": [
              "                        2          \n",
              "           d           d           \n",
              "2⋅y(t) + 3⋅──(y(t)) + ───(y(t)) = 0\n",
              "           dt           2          \n",
              "                      dt           "
            ],
            "image/png": "[encoded data removed]",
            "text/latex": "$\\displaystyle 2 y{\\left(t \\right)} + 3 \\frac{d}{d t} y{\\left(t \\right)} + \\frac{d^{2}}{d t^{2}} y{\\left(t \\right)} = 0$"
          },
          "metadata": {},
          "execution_count": 66
        }
      ]
    },
    {
      "cell_type": "code",
      "metadata": {
        "colab": {
          "base_uri": "https://localhost:8080/",
          "height": 58
        },
        "id": "6HP4uBCU-Tvx",
        "outputId": "e85cc40f-7da3-4a81-8cba-7c93d3b320b9"
      },
      "source": [
        "# Calculo la transformada de Laplace \n",
        "L_edo = sympy.laplace_transform(edo, t, s, noconds=True)\n",
        "sympy.Eq(L_edo,0)"
      ],
      "execution_count": null,
      "outputs": [
        {
          "output_type": "execute_result",
          "data": {
            "text/plain": [
              "                                                                              \n",
              "                                                   ⎛d             ⎞           \n",
              "2⋅LaplaceTransform(y(t), t, s) + 3⋅LaplaceTransform⎜──(y(t)), t, s⎟ + LaplaceT\n",
              "                                                   ⎝dt            ⎠           \n",
              "                                                                              \n",
              "\n",
              "        ⎛  2            ⎞    \n",
              "        ⎜ d             ⎟    \n",
              "ransform⎜───(y(t)), t, s⎟ = 0\n",
              "        ⎜  2            ⎟    \n",
              "        ⎝dt             ⎠    "
            ],
            "image/png": "[encoded data removed]",
            "text/latex": "$\\displaystyle 2 \\mathcal{L}_{t}\\left[y{\\left(t \\right)}\\right]\\left(s\\right) + 3 \\mathcal{L}_{t}\\left[\\frac{d}{d t} y{\\left(t \\right)}\\right]\\left(s\\right) + \\mathcal{L}_{t}\\left[\\frac{d^{2}}{d t^{2}} y{\\left(t \\right)}\\right]\\left(s\\right) = 0$"
          },
          "metadata": {},
          "execution_count": 67
        }
      ]
    },
    {
      "cell_type": "code",
      "metadata": {
        "id": "XicayIKo9pFN"
      },
      "source": [
        "def laplace_transform_derivatives(e):\n",
        "    \"\"\"\n",
        "    Evalua las transformadas de Laplace de derivadas de funciones sin evaluar.\n",
        "    \"\"\"\n",
        "    if isinstance(e, sympy.LaplaceTransform):\n",
        "        if isinstance(e.args[0], sympy.Derivative):\n",
        "            d, t, s = e.args \n",
        "            n = len(d.args) - 1\n",
        "            return ((s**n) * sympy.LaplaceTransform(d.args[0], t, s) -\n",
        "                    sum([s**(n-i) * sympy.diff(d.args[0], t, i-1).subs(t, 0)\n",
        "                         for i in range(1, n+1)]))\n",
        "        \n",
        "    if isinstance(e, (sympy.Add, sympy.Mul)):\n",
        "        t = type(e) \n",
        "        return t(*[laplace_transform_derivatives(arg) for arg in e.args])\n",
        "    \n",
        "    return e"
      ],
      "execution_count": null,
      "outputs": []
    },
    {
      "cell_type": "code",
      "metadata": {
        "colab": {
          "base_uri": "https://localhost:8080/",
          "height": 39
        },
        "id": "YvL_uOTt-jC3",
        "outputId": "b7fd8d46-3ff1-49e4-92e7-386db657c9ba"
      },
      "source": [
        "# Aplicamos la nueva funcion para evaluar las transformadas de Laplace\n",
        "# de derivadas\n",
        "L_edo_2 = laplace_transform_derivatives(L_edo)\n",
        "sympy.Eq(L_edo_2,0)"
      ],
      "execution_count": null,
      "outputs": [
        {
          "output_type": "execute_result",
          "data": {
            "text/plain": [
              "4⋅s⋅LaplaceTransform(y(t), t, s) + 2⋅LaplaceTransform(y(t), t, s) - 4⋅y(0) = 0"
            ],
            "image/png": "[encoded data removed]",
            "text/latex": "$\\displaystyle 4 s \\mathcal{L}_{t}\\left[y{\\left(t \\right)}\\right]\\left(s\\right) + 2 \\mathcal{L}_{t}\\left[y{\\left(t \\right)}\\right]\\left(s\\right) - 4 y{\\left(0 \\right)} = 0$"
          },
          "metadata": {},
          "execution_count": 69
        }
      ]
    },
    {
      "cell_type": "code",
      "metadata": {
        "id": "XJN3VxlUOwqK"
      },
      "source": [
        ""
      ],
      "execution_count": null,
      "outputs": []
    },
    {
      "cell_type": "code",
      "metadata": {
        "colab": {
          "base_uri": "https://localhost:8080/",
          "height": 52
        },
        "id": "RmPxTDJlPJAR",
        "outputId": "d2555a2f-8374-4fc8-ca71-41a61e1094f6"
      },
      "source": [
        "L_ode_2 = laplace_transform_derivatives(L_ode)\n",
        "sympy.Eq(L_ode_2,0)"
      ],
      "execution_count": null,
      "outputs": [
        {
          "output_type": "execute_result",
          "data": {
            "text/plain": [
              "                                                                              \n",
              "3⋅s⋅LaplaceTransform(y(t), t, s) + 10⋅LaplaceTransform(y(t), t, s) - 3⋅y(0) - \n",
              "                                                                              \n",
              "                                                                              \n",
              "\n",
              "  6       \n",
              "────── = 0\n",
              " 2        \n",
              "s  + 9    "
            ],
            "image/png": "[encoded data removed]",
            "text/latex": "$\\displaystyle 3 s \\mathcal{L}_{t}\\left[y{\\left(t \\right)}\\right]\\left(s\\right) + 10 \\mathcal{L}_{t}\\left[y{\\left(t \\right)}\\right]\\left(s\\right) - 3 y{\\left(0 \\right)} - \\frac{6}{s^{2} + 9} = 0$"
          },
          "metadata": {},
          "execution_count": 70
        }
      ]
    },
    {
      "cell_type": "code",
      "metadata": {
        "colab": {
          "base_uri": "https://localhost:8080/",
          "height": 52
        },
        "id": "WKlJmYIgzQQN",
        "outputId": "bca1c365-9342-4495-f097-06983c77d0b5"
      },
      "source": [
        "L_ode_3 = L_ode_2.subs(L_y, Y)\n",
        "sympy.Eq(L_ode_3,0)"
      ],
      "execution_count": null,
      "outputs": [
        {
          "output_type": "execute_result",
          "data": {
            "text/plain": [
              "                          6       \n",
              "3⋅Y⋅s + 10⋅Y - 3⋅y(0) - ────── = 0\n",
              "                         2        \n",
              "                        s  + 9    "
            ],
            "image/png": "[encoded data removed]",
            "text/latex": "$\\displaystyle 3 Y s + 10 Y - 3 y{\\left(0 \\right)} - \\frac{6}{s^{2} + 9} = 0$"
          },
          "metadata": {},
          "execution_count": 71
        }
      ]
    },
    {
      "cell_type": "code",
      "metadata": {
        "colab": {
          "base_uri": "https://localhost:8080/",
          "height": 68
        },
        "id": "9mO21qQqPveo",
        "outputId": "c5bd68a2-a03e-4d16-dc12-1e9c6411006c"
      },
      "source": [
        "ics = {y(0): 1, y(t).diff(t).subs(t, 0): 0}\n",
        "ics\n"
      ],
      "execution_count": null,
      "outputs": [
        {
          "output_type": "execute_result",
          "data": {
            "text/plain": [
              "⎧         ⎛d       ⎞│      ⎫\n",
              "⎨y(0): 1, ⎜──(y(t))⎟│   : 0⎬\n",
              "⎩         ⎝dt      ⎠│t=0   ⎭"
            ],
            "text/latex": "$\\displaystyle \\left\\{ y{\\left(0 \\right)} : 1, \\  \\left. \\frac{d}{d t} y{\\left(t \\right)} \\right|_{\\substack{ t=0 }} : 0\\right\\}$"
          },
          "metadata": {},
          "execution_count": 72
        }
      ]
    },
    {
      "cell_type": "code",
      "metadata": {
        "colab": {
          "base_uri": "https://localhost:8080/",
          "height": 52
        },
        "id": "G4mffmNAzpTG",
        "outputId": "511d89a1-7347-4656-d4c3-08c478ef11c7"
      },
      "source": [
        "L_ode_4 = L_ode_3.subs(ics)\n",
        "sympy.Eq(L_ode_4,0)"
      ],
      "execution_count": null,
      "outputs": [
        {
          "output_type": "execute_result",
          "data": {
            "text/plain": [
              "                     6       \n",
              "3⋅Y⋅s + 10⋅Y - 3 - ────── = 0\n",
              "                    2        \n",
              "                   s  + 9    "
            ],
            "image/png": "[encoded data removed]",
            "text/latex": "$\\displaystyle 3 Y s + 10 Y - 3 - \\frac{6}{s^{2} + 9} = 0$"
          },
          "metadata": {},
          "execution_count": 73
        }
      ]
    },
    {
      "cell_type": "code",
      "metadata": {
        "colab": {
          "base_uri": "https://localhost:8080/",
          "height": 52
        },
        "id": "-Uy-_Hc8P-oi",
        "outputId": "8e034aa7-7963-4b08-8591-ad23510f3625"
      },
      "source": [
        "L_ode_4 = L_ode_3.subs(ics)\n",
        "L_ode_4"
      ],
      "execution_count": null,
      "outputs": [
        {
          "output_type": "execute_result",
          "data": {
            "text/plain": [
              "                     6   \n",
              "3⋅Y⋅s + 10⋅Y - 3 - ──────\n",
              "                    2    \n",
              "                   s  + 9"
            ],
            "image/png": "[encoded data removed]",
            "text/latex": "$\\displaystyle 3 Y s + 10 Y - 3 - \\frac{6}{s^{2} + 9}$"
          },
          "metadata": {},
          "execution_count": 74
        }
      ]
    },
    {
      "cell_type": "code",
      "metadata": {
        "colab": {
          "base_uri": "https://localhost:8080/",
          "height": 68
        },
        "id": "nPpOGEDsQIjM",
        "outputId": "c6386ce4-7054-458c-c866-221d5d486ac9"
      },
      "source": [
        "Y_sol = sympy.solve(L_ode_4, Y)\n",
        "Y_sol"
      ],
      "execution_count": null,
      "outputs": [
        {
          "output_type": "execute_result",
          "data": {
            "text/plain": [
              "⎡        ⎛ 2     ⎞       ⎤\n",
              "⎢      3⋅⎝s  + 11⎠       ⎥\n",
              "⎢────────────────────────⎥\n",
              "⎢   3       2            ⎥\n",
              "⎣3⋅s  + 10⋅s  + 27⋅s + 90⎦"
            ],
            "image/png": "[encoded data removed]",
            "text/latex": "$\\displaystyle \\left[ \\frac{3 \\left(s^{2} + 11\\right)}{3 s^{3} + 10 s^{2} + 27 s + 90}\\right]$"
          },
          "metadata": {},
          "execution_count": 75
        }
      ]
    },
    {
      "cell_type": "code",
      "metadata": {
        "colab": {
          "base_uri": "https://localhost:8080/",
          "height": 57
        },
        "id": "EYTlqY9HQUxe",
        "outputId": "66aa4e1c-ee83-44b2-ac80-49894eea9df2"
      },
      "source": [
        "sympy.apart(Y_sol[0])"
      ],
      "execution_count": null,
      "outputs": [
        {
          "output_type": "execute_result",
          "data": {
            "text/plain": [
              "  6⋅(3⋅s - 10)        597      \n",
              "- ──────────── + ──────────────\n",
              "      ⎛ 2    ⎞   181⋅(3⋅s + 10)\n",
              "  181⋅⎝s  + 9⎠                 "
            ],
            "image/png": "[encoded data removed]",
            "text/latex": "$\\displaystyle - \\frac{6 \\left(3 s - 10\\right)}{181 \\left(s^{2} + 9\\right)} + \\frac{597}{181 \\left(3 s + 10\\right)}$"
          },
          "metadata": {},
          "execution_count": 76
        }
      ]
    },
    {
      "cell_type": "code",
      "metadata": {
        "colab": {
          "base_uri": "https://localhost:8080/",
          "height": 109
        },
        "id": "vkN0vIP_QiUp",
        "outputId": "cfe153f5-c116-4024-afc0-5b22e4e898bf"
      },
      "source": [
        "y_sol = sympy.inverse_laplace_transform(Y_sol[0], s, t)\n",
        "sympy.simplify(y_sol)"
      ],
      "execution_count": null,
      "outputs": [
        {
          "output_type": "execute_result",
          "data": {
            "text/plain": [
              "                                                                              \n",
              "                                                                              \n",
              "                                                                              \n",
              "  2⋅(ⅈ⋅sin(3⋅t) - cos(3⋅t))⋅Γ(-6⋅ⅈ)⋅Γ(10/3 - 3⋅ⅈ)   2⋅(ⅈ⋅sin(3⋅t) + cos(3⋅t))⋅\n",
              "- ─────────────────────────────────────────────── + ──────────────────────────\n",
              "              Γ(1 - 6⋅ⅈ)⋅Γ(13/3 - 3⋅ⅈ)                         Γ(1 + 6⋅ⅈ)⋅Γ(13\n",
              "\n",
              "                            -10⋅t                               \n",
              "                            ──────                              \n",
              "                              3                                 \n",
              "Γ(6⋅ⅈ)⋅Γ(10/3 + 3⋅ⅈ)   199⋅ℯ      ⋅Γ(-10/3 - 3⋅ⅈ)⋅Γ(-10/3 + 3⋅ⅈ)\n",
              "──────────────────── + ─────────────────────────────────────────\n",
              "/3 + 3⋅ⅈ)                    9⋅Γ(-7/3 - 3⋅ⅈ)⋅Γ(-7/3 + 3⋅ⅈ)      "
            ],
            "image/png": "[encoded data removed]",
            "text/latex": "$\\displaystyle - \\frac{2 \\left(i \\sin{\\left(3 t \\right)} - \\cos{\\left(3 t \\right)}\\right) \\Gamma\\left(- 6 i\\right) \\Gamma\\left(\\frac{10}{3} - 3 i\\right)}{\\Gamma\\left(1 - 6 i\\right) \\Gamma\\left(\\frac{13}{3} - 3 i\\right)} + \\frac{2 \\left(i \\sin{\\left(3 t \\right)} + \\cos{\\left(3 t \\right)}\\right) \\Gamma\\left(6 i\\right) \\Gamma\\left(\\frac{10}{3} + 3 i\\right)}{\\Gamma\\left(1 + 6 i\\right) \\Gamma\\left(\\frac{13}{3} + 3 i\\right)} + \\frac{199 e^{- \\frac{10 t}{3}} \\Gamma\\left(- \\frac{10}{3} - 3 i\\right) \\Gamma\\left(- \\frac{10}{3} + 3 i\\right)}{9 \\Gamma\\left(- \\frac{7}{3} - 3 i\\right) \\Gamma\\left(- \\frac{7}{3} + 3 i\\right)}$"
          },
          "metadata": {},
          "execution_count": 77
        }
      ]
    },
    {
      "cell_type": "code",
      "metadata": {
        "id": "WO9RHrKGQz-1"
      },
      "source": [
        "y_t = sympy.lambdify(t, y_sol, 'numpy')\n"
      ],
      "execution_count": null,
      "outputs": []
    },
    {
      "cell_type": "code",
      "metadata": {
        "colab": {
          "base_uri": "https://localhost:8080/",
          "height": 599
        },
        "id": "C4fsDe-YRDe0",
        "outputId": "2745f6a0-94da-49c1-df1a-96bab0d20c3c"
      },
      "source": [
        "fig, ax = plt.subplots(figsize=(8, 4))\n",
        "\n",
        "tt = np.linspace(0, 10, 500)\n",
        "ax.plot(tt, y_t(tt))\n",
        "ax.set_xlabel(r\"$t$\", fontsize=18)\n",
        "ax.set_ylabel(r\"$y(t)$\", fontsize=18)\n",
        "fig.tight_layout()"
      ],
      "execution_count": null,
      "outputs": [
        {
          "output_type": "error",
          "ename": "TypeError",
          "evalue": "ignored",
          "traceback": [
            "\u001b[0;31m---------------------------------------------------------------------------\u001b[0m",
            "\u001b[0;31mTypeError\u001b[0m                                 Traceback (most recent call last)",
            "\u001b[0;32m<ipython-input-79-febcfa470b5b>\u001b[0m in \u001b[0;36m<module>\u001b[0;34m()\u001b[0m\n\u001b[1;32m      2\u001b[0m \u001b[0;34m\u001b[0m\u001b[0m\n\u001b[1;32m      3\u001b[0m \u001b[0mtt\u001b[0m \u001b[0;34m=\u001b[0m \u001b[0mnp\u001b[0m\u001b[0;34m.\u001b[0m\u001b[0mlinspace\u001b[0m\u001b[0;34m(\u001b[0m\u001b[0;36m0\u001b[0m\u001b[0;34m,\u001b[0m \u001b[0;36m10\u001b[0m\u001b[0;34m,\u001b[0m \u001b[0;36m500\u001b[0m\u001b[0;34m)\u001b[0m\u001b[0;34m\u001b[0m\u001b[0;34m\u001b[0m\u001b[0m\n\u001b[0;32m----> 4\u001b[0;31m \u001b[0max\u001b[0m\u001b[0;34m.\u001b[0m\u001b[0mplot\u001b[0m\u001b[0;34m(\u001b[0m\u001b[0mtt\u001b[0m\u001b[0;34m,\u001b[0m \u001b[0my_t\u001b[0m\u001b[0;34m(\u001b[0m\u001b[0mtt\u001b[0m\u001b[0;34m)\u001b[0m\u001b[0;34m)\u001b[0m\u001b[0;34m\u001b[0m\u001b[0;34m\u001b[0m\u001b[0m\n\u001b[0m\u001b[1;32m      5\u001b[0m \u001b[0max\u001b[0m\u001b[0;34m.\u001b[0m\u001b[0mset_xlabel\u001b[0m\u001b[0;34m(\u001b[0m\u001b[0;34mr\"$t$\"\u001b[0m\u001b[0;34m,\u001b[0m \u001b[0mfontsize\u001b[0m\u001b[0;34m=\u001b[0m\u001b[0;36m18\u001b[0m\u001b[0;34m)\u001b[0m\u001b[0;34m\u001b[0m\u001b[0;34m\u001b[0m\u001b[0m\n\u001b[1;32m      6\u001b[0m \u001b[0max\u001b[0m\u001b[0;34m.\u001b[0m\u001b[0mset_ylabel\u001b[0m\u001b[0;34m(\u001b[0m\u001b[0;34mr\"$y(t)$\"\u001b[0m\u001b[0;34m,\u001b[0m \u001b[0mfontsize\u001b[0m\u001b[0;34m=\u001b[0m\u001b[0;36m18\u001b[0m\u001b[0;34m)\u001b[0m\u001b[0;34m\u001b[0m\u001b[0;34m\u001b[0m\u001b[0m\n",
            "\u001b[0;32m<lambdifygenerated-67>\u001b[0m in \u001b[0;36m_lambdifygenerated\u001b[0;34m(t)\u001b[0m\n\u001b[1;32m      1\u001b[0m \u001b[0;32mdef\u001b[0m \u001b[0m_lambdifygenerated\u001b[0m\u001b[0;34m(\u001b[0m\u001b[0mt\u001b[0m\u001b[0;34m)\u001b[0m\u001b[0;34m:\u001b[0m\u001b[0;34m\u001b[0m\u001b[0;34m\u001b[0m\u001b[0m\n\u001b[0;32m----> 2\u001b[0;31m     \u001b[0;32mreturn\u001b[0m \u001b[0;34m(\u001b[0m\u001b[0;34m-\u001b[0m\u001b[0;36m2\u001b[0m\u001b[0;34m*\u001b[0m\u001b[0;34m(\u001b[0m\u001b[0;36m1j\u001b[0m\u001b[0;34m*\u001b[0m\u001b[0msin\u001b[0m\u001b[0;34m(\u001b[0m\u001b[0;36m3\u001b[0m\u001b[0;34m*\u001b[0m\u001b[0mt\u001b[0m\u001b[0;34m)\u001b[0m \u001b[0;34m-\u001b[0m \u001b[0mcos\u001b[0m\u001b[0;34m(\u001b[0m\u001b[0;36m3\u001b[0m\u001b[0;34m*\u001b[0m\u001b[0mt\u001b[0m\u001b[0;34m)\u001b[0m\u001b[0;34m)\u001b[0m\u001b[0;34m*\u001b[0m\u001b[0mgamma\u001b[0m\u001b[0;34m(\u001b[0m\u001b[0;34m-\u001b[0m\u001b[0;36m6\u001b[0m\u001b[0;34m*\u001b[0m\u001b[0;36m1j\u001b[0m\u001b[0;34m)\u001b[0m\u001b[0;34m*\u001b[0m\u001b[0mgamma\u001b[0m\u001b[0;34m(\u001b[0m\u001b[0;36m10\u001b[0m\u001b[0;34m/\u001b[0m\u001b[0;36m3\u001b[0m \u001b[0;34m-\u001b[0m \u001b[0;36m3\u001b[0m\u001b[0;34m*\u001b[0m\u001b[0;36m1j\u001b[0m\u001b[0;34m)\u001b[0m\u001b[0;34m/\u001b[0m\u001b[0;34m(\u001b[0m\u001b[0mgamma\u001b[0m\u001b[0;34m(\u001b[0m\u001b[0;36m1\u001b[0m \u001b[0;34m-\u001b[0m \u001b[0;36m6\u001b[0m\u001b[0;34m*\u001b[0m\u001b[0;36m1j\u001b[0m\u001b[0;34m)\u001b[0m\u001b[0;34m*\u001b[0m\u001b[0mgamma\u001b[0m\u001b[0;34m(\u001b[0m\u001b[0;36m13\u001b[0m\u001b[0;34m/\u001b[0m\u001b[0;36m3\u001b[0m \u001b[0;34m-\u001b[0m \u001b[0;36m3\u001b[0m\u001b[0;34m*\u001b[0m\u001b[0;36m1j\u001b[0m\u001b[0;34m)\u001b[0m\u001b[0;34m)\u001b[0m \u001b[0;34m+\u001b[0m \u001b[0;36m2\u001b[0m\u001b[0;34m*\u001b[0m\u001b[0;34m(\u001b[0m\u001b[0;36m1j\u001b[0m\u001b[0;34m*\u001b[0m\u001b[0msin\u001b[0m\u001b[0;34m(\u001b[0m\u001b[0;36m3\u001b[0m\u001b[0;34m*\u001b[0m\u001b[0mt\u001b[0m\u001b[0;34m)\u001b[0m \u001b[0;34m+\u001b[0m \u001b[0mcos\u001b[0m\u001b[0;34m(\u001b[0m\u001b[0;36m3\u001b[0m\u001b[0;34m*\u001b[0m\u001b[0mt\u001b[0m\u001b[0;34m)\u001b[0m\u001b[0;34m)\u001b[0m\u001b[0;34m*\u001b[0m\u001b[0mgamma\u001b[0m\u001b[0;34m(\u001b[0m\u001b[0;36m6\u001b[0m\u001b[0;34m*\u001b[0m\u001b[0;36m1j\u001b[0m\u001b[0;34m)\u001b[0m\u001b[0;34m*\u001b[0m\u001b[0mgamma\u001b[0m\u001b[0;34m(\u001b[0m\u001b[0;36m10\u001b[0m\u001b[0;34m/\u001b[0m\u001b[0;36m3\u001b[0m \u001b[0;34m+\u001b[0m \u001b[0;36m3\u001b[0m\u001b[0;34m*\u001b[0m\u001b[0;36m1j\u001b[0m\u001b[0;34m)\u001b[0m\u001b[0;34m/\u001b[0m\u001b[0;34m(\u001b[0m\u001b[0mgamma\u001b[0m\u001b[0;34m(\u001b[0m\u001b[0;36m1\u001b[0m \u001b[0;34m+\u001b[0m \u001b[0;36m6\u001b[0m\u001b[0;34m*\u001b[0m\u001b[0;36m1j\u001b[0m\u001b[0;34m)\u001b[0m\u001b[0;34m*\u001b[0m\u001b[0mgamma\u001b[0m\u001b[0;34m(\u001b[0m\u001b[0;36m13\u001b[0m\u001b[0;34m/\u001b[0m\u001b[0;36m3\u001b[0m \u001b[0;34m+\u001b[0m \u001b[0;36m3\u001b[0m\u001b[0;34m*\u001b[0m\u001b[...\n\u001b[0m",
            "\u001b[0;31mTypeError\u001b[0m: can't convert complex to float"
          ]
        },
        {
          "output_type": "display_data",
          "data": {
            "text/plain": [
              "<Figure size 576x288 with 1 Axes>"
            ],
            "image/png": "[encoded data removed]"
          },
          "metadata": {
            "needs_background": "light"
          }
        }
      ]
    },
    {
      "cell_type": "code",
      "metadata": {
        "id": "xvTgcXITQnPX"
      },
      "source": [
        ""
      ],
      "execution_count": null,
      "outputs": []
    },
    {
      "cell_type": "markdown",
      "metadata": {
        "id": "PyLYmtu9x6Fn"
      },
      "source": [
        "### Métodos numéricos para resolver EDO\n",
        "Si bien algunos problemas de EDO se pueden resolver con métodos analíticos, como hemos visto en los ejemplos de las secciones anteriores, es mucho más común con problemas de ODE que no se puede resolver analíticamente.  En la práctica, los problemas de EDO se resuelven principalmente\n",
        "con métodos numéricos. Hay muchos enfoques para resolver las EDO numéricamente, y\n",
        "la mayoría de ellos están diseñados para problemas que se formulan como un sistema de primer orden\n",
        "EDO's, la forma estandar $\\frac{dy}{dx}=f(x,y(x))$ donde $y(x)$ es una función vectorial de $x$ desconocida.\n",
        "SciPy proporciona funciones para resolver este tipo de problemas, pero antes de explorar cómo usar esas funciones, revisamos brevemente los conceptos fundamentales e\n",
        "introducimos  la terminología utilizada para la integración numérica de problemas de EDO.\n",
        "La idea básica de muchos métodos numéricos para EDO se captura en el método de Euler.\n",
        "Este método se deriva de una expansión en serie de Taylor de $y(x)$ alrededor del punto $x$\n",
        "\n",
        "$$\n",
        "y(x+h)=y(x)+\\frac{1}{1!}\\frac{dy}{dx}h+\\frac{1}{2!}\\frac{d^2y}{dx^2}h^2+\\cdots.\n",
        "$$\n",
        "Donde para simplificar la notación, consideramos el caso en el que $y(x)$ es una función escalar.\n",
        "Al eliminar términos de segundo orden o superiores, obtenemos la ecuación aproximada\n",
        "$$\n",
        "y(x + h)\\approx y(x)+f(x,y(x))h\n",
        "$$\n",
        ", que tiene una precisión de primer orden  para $h$. Esta ecuación se puede convertir en una fórmula de iteración discretizando las variables $x$, $x_0$, $x_1$,$\\cdots, x_k,$\n",
        "eligiendo el tamaño del paso $h_k=x_{k + 1} - x_k$, y denotando $y_k=y (x_k)$. La iteración resultante es la \n",
        "fórmula $y_{k + 1} ≈ y_{k} +f(x_k, y_k) h_k$ se conoce como el método de Euler hacia adelante (directo), y se dice que es un\n",
        "forma explícita porque dado el valor de $y_k$, podemos calcular directamente $y_{k + 1}$ usando la fórmula"
      ]
    },
    {
      "cell_type": "markdown",
      "metadata": {
        "id": "_UBtRBUU4H_s"
      },
      "source": [
        "El objetivo de la solución numérica de un problema de valor inicial es calcular $y (x)$ en algunos puntos $x_n$, dada la condición inicial $y(x_0)=y_0$. Una fórmula de iteración como la del método de Euler hacia adelante se puede utilizar para calcular valores sucesivos de $y_k$, comenzando desde $y_0$. Hay dos tipos de errores involucrados en este enfoque: Primero, el truncamiento de la serie de Taylor da un error que limita la precisión del método. Segundo, usando\n",
        "la aproximación de $y_k$ dada por la iteración anterior cuando se calcula $y_{k + 1}$ da un\n",
        "error adicional que puede acumularse en las iteraciones sucesivas y esto  puede afectar la\n",
        "estabilidad del método.\n",
        "\n",
        "Una forma alternativa, que se puede derivar de manera similar, es el Euler hacia atrás"
      ]
    },
    {
      "cell_type": "markdown",
      "metadata": {
        "id": "i3pdN5_r6EXy"
      },
      "source": [
        "Dado por la fórmula de iteración $y_{k + 1} ≈ y_{k} + f (x_{k + 1}, y_{k + 1}) h_k$. Éste es un ejemplo de un\n",
        "fórmula de diferenciación hacia atrás,es una fórmula  implícita, porque $y_{k + 1}$ ocurre en ambos\n",
        "lados de la ecuación. Para calcular $y_{k + 1}$, necesitamos resolver una ecuación algebraica.\n",
        " Los métodos implícitos son más complicados de\n",
        "implementar que los métodos explícitos, y cada iteración requiere más trabajo computacional.\n",
        "Sin embargo, la ventaja es que los métodos implícitos generalmente tienen una región de estabilidad más grande. y mejor precisión, lo que significa que se puede utilizar un tamaño de paso más grande $h_k$ sin dejar de obtener una solución precisa y estable. Si los métodos explícitos o implícitos son más eficientes\n",
        "depende del problema particular que se esté resolviendo. Los métodos implícitos son a menudo\n",
        "particularmente útiles para problemas rígidos, que en términos generales son problemas de EDO que\n",
        "describen  dinámicas con múltiples escalas de tiempo dispares (por ejemplo, dinámicas que incluyen tanto\n",
        "oscilaciones rápidas y lentas)."
      ]
    },
    {
      "cell_type": "markdown",
      "metadata": {
        "id": "EE9gYwSN70LN"
      },
      "source": [
        "Hay varios métodos para mejorar el método de Euler hacia adelante y hacia atrás de primer orden. Una estrategia es mantener términos de orden superior en la serie de expansión Taylor de $y (x + h)$, que da fórmulas de iteración de orden superior que pueden tener mejor precisión, como el método de segundo orden\n",
        "$$\n",
        "y_{k+1}\\approx y(x_k)+f(x_{k+1},y(x_{k+1}))h_k+\\frac{1}{2}y^{''}(x_k)h_k^2\n",
        "$$\n",
        "\n",
        "Sin embargo, estos  métodos requieren evaluar derivadas de orden superior de $y (x)$, que puediera\n",
        "Ser un problema si $f (x, y (x))$ no se conoce de antemano ( no se da en forma simbólica).\n",
        "Las formas de solucionar este problema incluyen la aproximación de las derivadas de orden superior utilizando\n",
        "Aproximaciones en diferencias finitas de las derivadas o muestreo de la función $f (x, y (x))$\n",
        "en puntos intermedios del intervalo $[x_k, x_{k + 1}]$. Un ejemplo de este tipo de método es el\n",
        "conocido método de Runge-Kutta, que es un método de un solo paso que utiliza algunas \n",
        "evaluaciones de $f (x, y (x))$. El método de Runge-Kutta más conocido es el de cuarto orden cuyo .\n",
        "esquema esta dado por:\n",
        "\n",
        "$$\n",
        "y_{k+1}=y_k+\\frac{1}{6}(k_1+2k_2+2k_3+k_4)\n",
        "$$\n",
        "donde \n",
        "$$k_1=f(x_k,y_k)h_k$$\n",
        "\n",
        "\n",
        "\n",
        "$$\n",
        "k_2=f(x_k+\\frac{h_k}{2},y_k+\\frac{k_1}{2})h_k\\\\\n",
        "$$\n",
        "\n",
        "\n",
        "$$\n",
        "k_3=f(x_k+\\frac{h_k}{2},y_k+\\frac{k_2}{2})h_k\\\\\n",
        "$$\n",
        "\n",
        "\n",
        "$$\n",
        "k_4=f(x_k+h_k,y_k+k_3)h_k\\\\\n",
        "$$\n",
        "\n"
      ]
    },
    {
      "cell_type": "markdown",
      "metadata": {
        "id": "PsOSyNzwpXtK"
      },
      "source": [
        "Aquí, $k_1,k_2,k_3 , k_4$ son cuatro evaluaciones diferentes de la función EDO f (x, y (x)) que se utilizan en la fórmula explícita para $y_{k + 1}$ dada en el texto anterior. La estimación resultante de $y_{k + 1}$ tiene una\n",
        "precision  de cuarto orden, con un error de quinto orden. se pueden obtener esquemas de orden superior  usando más\n",
        " evaluaciones de función $f$. \n",
        " Combinando dos métodos de diferentes es posible obtener una mejor aproximación  del error en la aproximación. Una famosa\n",
        "combinación son los esquemas de cuarto y quinto orden de Runge-Kutta, lo que da como resultado una método exacto de cuarto orden para  las estimaciones del error. Se conoce como RK45 o Runge-\n",
        "Método de Kutta-Fehlberg. El método Dormand-Prince es otro ejemplo de un método orden superior, que además utiliza control de tamaño de pasos adaptativo. Otro ejemplo es el  el 8-5-3 este  método combina esquemas de tercer y quinto orden para producir un método de octavo orden.\n",
        "las implementaciones de estos métodos están disponibles en SciPy.\n",
        "Un método alternativo es usar más de un valor previo de $y_k$ para calcular $y_{k + 1}$.\n",
        "Dichos métodos se conocen como métodos de varios pasos y, en general, se pueden escribir en la forma:\n",
        "\n",
        "$$\n",
        "y_{k+s}=\\sum_{n=0}^{s-1}a_ny_{k+n}+h\\sum_{n=0}^sb_nf(x_{k+n},y_{k+n})\n",
        "$$\n",
        "\n",
        "\n",
        "Con esta fórmula, para calcular $y_{k + s}$, se utilizan los valores previos  de $s$  , $y_k $,y $f (x_k, y_k)$\n",
        "(conocido como método de  $s$ pasos ). Las elecciones de los coeficientes $a_n$ y $b_n$ dan lugar a diferentes métodos de varios pasos. Tenga en cuenta que si las  $b_s = 0$, entonces el método es explícito, y si $b_s ≠ 0$,\n",
        "es implícito.\n",
        "Por ejemplo, $b_0 = b_1 =… = b_{s - 1} = 0$ da la fórmula general para un BDF de paso $s$\n",
        "fórmula, donde $a_n$ y $b_n$ se eligen para maximizar el orden de precisión aquí se pide\n",
        "que el método es exacto para polinomios hasta el orden más alto posible. Esto da una\n",
        "sistema de ecuaciones que se puede resolver para los coeficientes desconocidos $a_n$ y $b_n$. Por ejemplo"
      ]
    },
    {
      "cell_type": "markdown",
      "metadata": {
        "id": "ddXf4KGdxY1g"
      },
      "source": [
        "Por ejemplo el método BDF de un paso con $b_1 = a_0 = 1$ se reduce al método de Euler hacia atrás, \n",
        "$$y_{k + 1} =\n",
        "y_k + hf (x_{k + 1}, y_{k + 1})$$,\n",
        "\n",
        " y el método BDF de dos pasos, $$y_{k + 2} = a_0y_k + a_1y_{k + 1} + hb_2f (x_{k + 2}, y_{k + 2})$$, \n",
        " resolviendo para los coeficientes ($a_0$, $a_1$ y $b_2$), obtenemos :\n",
        " \n",
        "  $$y_{k+2}=-\\frac{1}{3}y_k+\\frac{4}{3}y_{k+1}+\\frac{2}{3}$$\n",
        "\n",
        "También se pueden construir métodos BDF de orden superior. SciPy proporciona un solucionador de BDF que se recomienda para problemas de rigidez,  por sus buenas propiedades de estabilidad.\n",
        "Otra familia de métodos de varios pasos son los métodos de Adams, que se obtienen de la elección $a_0 = a_1 =\\cdots=a_{s-2} =0 $ y $a_{s-1}=1$, donde de nuevo el resto donde de nuevo el resto de los \n",
        " coeficientes desconocidos se seleccionan de tal modo que maximizan  el orden de exactitud del método. Específicamente,\n",
        "los métodos explícitos con bs = 0 se conocen como métodos Adams-Bashforth, y el\n",
        "Los métodos implícitos con bs ≠ 0 se conocen como métodos de Adams-Moulton. Por ejemplo, Los métodos Adams-Bashforth y Adams-Moulton de un paso reducen a los \n",
        "métodos de Euler hacia adelante y hacia atrás, respectivamente, y los métodos de dos pasos son:\n",
        "\n",
        "$$\n",
        "y_{k+2}=y_{k+1}+h(-\\frac{1}{2}f(x_k,y_k)+\\frac{3}{2}f(x_{k+1},y_{k+1}))\n",
        "$$\n",
        "\n",
        "y\n",
        "\n",
        "$$\n",
        "y_{k+1}=y_{k}+\\frac{1}{2}h(f(x_k,y_k)+f(x_{k+1},y_{k+1}))\n",
        "$$\n",
        "\n",
        "respectivamente \n"
      ]
    },
    {
      "cell_type": "markdown",
      "metadata": {
        "id": "OPKv10Ad6bY1"
      },
      "source": [
        "Los métodos explícitos e implícitos de orden superior también se pueden construir de este modo. SciPy también tiene  solucionadores que utilizan estos métodos de Adams  ."
      ]
    },
    {
      "cell_type": "code",
      "metadata": {
        "id": "QX3j2AAh6xIg"
      },
      "source": [
        "x=sympy.symbols('x')\n",
        "y=sympy.Function('y')\n",
        "f=y(x)**2+x"
      ],
      "execution_count": null,
      "outputs": []
    },
    {
      "cell_type": "markdown",
      "source": [
        "generando una función utilizando lambdify"
      ],
      "metadata": {
        "id": "H5RcqDsL3x40"
      }
    },
    {
      "cell_type": "code",
      "source": [
        "f_np=sympy.lambdify((y(x),x),f)"
      ],
      "metadata": {
        "id": "dOugoD1F3578"
      },
      "execution_count": null,
      "outputs": []
    },
    {
      "cell_type": "markdown",
      "source": [
        "necesitamos el valor inicial "
      ],
      "metadata": {
        "id": "OrxJq8EN4Om9"
      }
    },
    {
      "cell_type": "code",
      "source": [
        "y0=0\n",
        "xp=np.linspace(0,1.9,100)\n",
        "yp=integrate.odeint(f_np,y0,xp)\n",
        "xm=np.linspace(0,-5,100)\n",
        "ym=integrate.odeint(f_np,y0,xm)"
      ],
      "metadata": {
        "id": "NYyARS5A4VVm"
      },
      "execution_count": null,
      "outputs": []
    },
    {
      "cell_type": "markdown",
      "source": [
        "El resultado son dos arreglos de numpy\n",
        "graficaremos los arrefglos junto con su campo de direcciones "
      ],
      "metadata": {
        "id": "Avrlukay5wzS"
      }
    },
    {
      "cell_type": "code",
      "source": [
        "fig,ax=plt.subplots(1,1,figsize=(4,4))\n",
        "plot_direction_field(x,y(x),f,ax=ax)\n",
        "ax.plot(xm,ym,'b',lw=2)\n",
        "ax.plot(xp,yp,'r',lw=2)\n",
        "plt.show()"
      ],
      "metadata": {
        "colab": {
          "base_uri": "https://localhost:8080/",
          "height": 295
        },
        "id": "rvrVnGBw6Cy7",
        "outputId": "8b47a74a-8122-4939-c2d5-9842e951df98"
      },
      "execution_count": null,
      "outputs": [
        {
          "output_type": "display_data",
          "data": {
            "text/plain": [
              "<Figure size 288x288 with 1 Axes>"
            ],
            "image/png": "[encoded data removed]"
          },
          "metadata": {
            "needs_background": "light"
          }
        }
      ]
    }
  ]
}